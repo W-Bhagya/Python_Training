{
 "cells": [
  {
   "cell_type": "code",
   "execution_count": 1,
   "id": "bc7ecda9",
   "metadata": {},
   "outputs": [
    {
     "data": {
      "text/plain": [
       "'a=10, b=5, c=54'"
      ]
     },
     "execution_count": 1,
     "metadata": {},
     "output_type": "execute_result"
    }
   ],
   "source": [
    "a = 10\n",
    "b = 5\n",
    "c = 54\n",
    "'a={}, b={}, c={}'.format(a,b,c)"
   ]
  },
  {
   "cell_type": "code",
   "execution_count": 2,
   "id": "8bcf2311",
   "metadata": {},
   "outputs": [
    {
     "data": {
      "text/plain": [
       "'python is fun'"
      ]
     },
     "execution_count": 2,
     "metadata": {},
     "output_type": "execute_result"
    }
   ],
   "source": [
    "'    python is fun   '.strip()"
   ]
  },
  {
   "cell_type": "code",
   "execution_count": 3,
   "id": "c505efe9",
   "metadata": {},
   "outputs": [
    {
     "data": {
      "text/plain": [
       "True"
      ]
     },
     "execution_count": 3,
     "metadata": {},
     "output_type": "execute_result"
    }
   ],
   "source": [
    "s = \"malayalam\"\n",
    "s == s[::-1]"
   ]
  },
  {
   "cell_type": "code",
   "execution_count": 4,
   "id": "4af182ab",
   "metadata": {},
   "outputs": [
    {
     "data": {
      "text/plain": [
       "False"
      ]
     },
     "execution_count": 4,
     "metadata": {},
     "output_type": "execute_result"
    }
   ],
   "source": [
    "s = \"Bhagya\"\n",
    "s == s[::-1]"
   ]
  },
  {
   "cell_type": "code",
   "execution_count": 5,
   "id": "e845809e",
   "metadata": {},
   "outputs": [
    {
     "data": {
      "text/plain": [
       "['fdklg', 'kfdl']"
      ]
     },
     "execution_count": 5,
     "metadata": {},
     "output_type": "execute_result"
    }
   ],
   "source": [
    "s = \"fdklg%kfdl\"\n",
    "s.split(\"%\")"
   ]
  },
  {
   "cell_type": "code",
   "execution_count": 6,
   "id": "56eb9bf7",
   "metadata": {},
   "outputs": [
    {
     "data": {
      "text/plain": [
       "['my', 'name']"
      ]
     },
     "execution_count": 6,
     "metadata": {},
     "output_type": "execute_result"
    }
   ],
   "source": [
    "s = \"my name\"\n",
    "s.split()"
   ]
  },
  {
   "cell_type": "code",
   "execution_count": 7,
   "id": "edcd5946",
   "metadata": {},
   "outputs": [
    {
     "name": "stdout",
     "output_type": "stream",
     "text": [
      "Enter number : 5\n",
      "Factorial is:  120\n"
     ]
    }
   ],
   "source": [
    "num = int(input(\"Enter number : \"))\n",
    "fact = 1\n",
    "\n",
    "for i in range(1, num + 1):\n",
    "    fact = fact * i\n",
    "\n",
    "print (\"Factorial is: \",end = \" \")\n",
    "print(fact)"
   ]
  },
  {
   "cell_type": "code",
   "execution_count": 8,
   "id": "e726c5a0",
   "metadata": {},
   "outputs": [
    {
     "name": "stdout",
     "output_type": "stream",
     "text": [
      "Enter number : 2\n",
      "Factorial is:  2\n"
     ]
    }
   ],
   "source": [
    "num = int(input(\"Enter number : \"))\n",
    "fact = 1\n",
    "\n",
    "for i in range(1, num + 1):\n",
    "    fact = fact * i\n",
    "\n",
    "print (\"Factorial is: \",end = \" \")\n",
    "print(fact)"
   ]
  },
  {
   "cell_type": "code",
   "execution_count": 1,
   "id": "fd7ba1fa",
   "metadata": {},
   "outputs": [],
   "source": [
    "d = {'a':100, 'b':20, 'c':30, 'e':20, 'k':{'x':10}, 'v':[1,2,3]}"
   ]
  },
  {
   "cell_type": "code",
   "execution_count": 2,
   "id": "a0e4ee9e",
   "metadata": {},
   "outputs": [
    {
     "data": {
      "text/plain": [
       "[1, 2, 3]"
      ]
     },
     "execution_count": 2,
     "metadata": {},
     "output_type": "execute_result"
    }
   ],
   "source": [
    "d['v'][0:3]"
   ]
  },
  {
   "cell_type": "code",
   "execution_count": 3,
   "id": "2412724a",
   "metadata": {},
   "outputs": [
    {
     "data": {
      "text/plain": [
       "[1, 2]"
      ]
     },
     "execution_count": 3,
     "metadata": {},
     "output_type": "execute_result"
    }
   ],
   "source": [
    "d['v'][0:2]"
   ]
  },
  {
   "cell_type": "code",
   "execution_count": 4,
   "id": "951e089f",
   "metadata": {},
   "outputs": [
    {
     "data": {
      "text/plain": [
       "[1]"
      ]
     },
     "execution_count": 4,
     "metadata": {},
     "output_type": "execute_result"
    }
   ],
   "source": [
    "d['v'][0:1]"
   ]
  },
  {
   "cell_type": "code",
   "execution_count": 5,
   "id": "e52881fc",
   "metadata": {},
   "outputs": [],
   "source": [
    "tp = ((1,2,3),7,(45,66,67),(6,7,9),[1,2,44,6],{'1':1})"
   ]
  },
  {
   "cell_type": "code",
   "execution_count": 6,
   "id": "c2d23b12",
   "metadata": {},
   "outputs": [
    {
     "name": "stdout",
     "output_type": "stream",
     "text": [
      "(1, 2, 3)\n",
      "(45, 66, 67)\n",
      "(6, 7, 9)\n"
     ]
    }
   ],
   "source": [
    "for i in tp:\n",
    "    if isinstance(i, tuple):\n",
    "        print(i)"
   ]
  },
  {
   "cell_type": "code",
   "execution_count": 7,
   "id": "fbb068c6",
   "metadata": {},
   "outputs": [
    {
     "name": "stdout",
     "output_type": "stream",
     "text": [
      "(1, 2, 3)\n",
      "1\n",
      "2\n",
      "3\n",
      "(45, 66, 67)\n",
      "45\n",
      "66\n",
      "67\n",
      "(6, 7, 9)\n",
      "6\n",
      "7\n",
      "9\n"
     ]
    }
   ],
   "source": [
    "for i in tp:\n",
    "    if isinstance(i, tuple):\n",
    "        print(i)\n",
    "        for j in i:\n",
    "            print(j)"
   ]
  },
  {
   "cell_type": "code",
   "execution_count": 8,
   "id": "b57a578f",
   "metadata": {},
   "outputs": [
    {
     "data": {
      "text/plain": [
       "2326531707136"
      ]
     },
     "execution_count": 8,
     "metadata": {},
     "output_type": "execute_result"
    }
   ],
   "source": [
    "id(tp)"
   ]
  },
  {
   "cell_type": "code",
   "execution_count": 1,
   "id": "d6f23036",
   "metadata": {},
   "outputs": [
    {
     "data": {
      "text/plain": [
       "'Hello everyone'"
      ]
     },
     "execution_count": 1,
     "metadata": {},
     "output_type": "execute_result"
    }
   ],
   "source": [
    "\"Hello everyone\""
   ]
  },
  {
   "cell_type": "code",
   "execution_count": 2,
   "id": "15937b62",
   "metadata": {},
   "outputs": [
    {
     "name": "stdout",
     "output_type": "stream",
     "text": [
      "1. Create Employee records\n",
      "2. Update the Employee details\n",
      "3. Delete employee record\n",
      "4. Display\n",
      "5. Exit\n",
      "Enter your choice[1-5]: 1\n",
      "Enter the Employee name: Bhagyashree\n",
      "Enter the Employee id: 3421\n",
      "Enter the phone number: 8967347113\n",
      "Technologies[comma seperated ed: C++, Python, .Net] C,C++\n",
      "1. Create Employee records\n",
      "2. Update the Employee details\n",
      "3. Delete employee record\n",
      "4. Display\n",
      "5. Exit\n",
      "Enter your choice[1-5]: 1\n",
      "Enter the Employee name: Neha\n",
      "Enter the Employee id: 8475\n",
      "Enter the phone number: 9878734143\n",
      "Technologies[comma seperated ed: C++, Python, .Net] .Net,Python\n",
      "1. Create Employee records\n",
      "2. Update the Employee details\n",
      "3. Delete employee record\n",
      "4. Display\n",
      "5. Exit\n",
      "Enter your choice[1-5]: 2\n",
      "Whoes details you want to update ?, Please enter the emp_id: 3421\n",
      "name(Bhagyashree)Bhagyashree Wagh\n",
      "phone(8967347113)8967347113\n",
      "tech(['C', 'C++'])Python,C,C++,Java\n",
      "1. Create Employee records\n",
      "2. Update the Employee details\n",
      "3. Delete employee record\n",
      "4. Display\n",
      "5. Exit\n",
      "Enter your choice[1-5]: 4\n",
      "{3421: {'name': 'Bhagyashree Wagh', 'phone': '8967347113', 'tech': 'Python,C,C++,Java'}, 8475: {'name': 'Neha', 'phone': '9878734143', 'tech': ['.Net', 'Python']}}\n",
      "1. Create Employee records\n",
      "2. Update the Employee details\n",
      "3. Delete employee record\n",
      "4. Display\n",
      "5. Exit\n",
      "Enter your choice[1-5]: 5\n"
     ]
    }
   ],
   "source": [
    "emp_info = {}\n",
    "\n",
    "while True:\n",
    "    print(\"1. Create Employee records\")\n",
    "    print(\"2. Update the Employee details\")\n",
    "    print(\"3. Delete employee record\")\n",
    "    print(\"4. Display\")\n",
    "    print(\"5. Exit\")\n",
    "    ch = int(input(\"Enter your choice[1-5]: \"))\n",
    "    if ch == 1:\n",
    "        name = input(\"Enter the Employee name: \")\n",
    "        emp_id = int(input(\"Enter the Employee id: \"))\n",
    "        ph = input(\"Enter the phone number: \")\n",
    "        tech = input(\"Technologies[comma seperated ed: C++, Python, .Net] \")\n",
    "        emp_info[emp_id] = {\"name\" : name, \"phone\" : ph, \"tech\" : tech.split(',')}\n",
    "    elif ch == 2:\n",
    "        who = int(input(\"Whoes details you want to update ?, Please enter the emp_id: \"))\n",
    "        rec = emp_info[who]\n",
    "        for field, value in rec.items():\n",
    "            new = input('{}({})'.format(field, value))\n",
    "            emp_info[who][field] = value if new == '' else new\n",
    "    elif ch == 3:\n",
    "        pass\n",
    "    elif ch == 4:\n",
    "        print(emp_info)\n",
    "    else:\n",
    "        break"
   ]
  },
  {
   "cell_type": "code",
   "execution_count": 3,
   "id": "c575ce1b",
   "metadata": {},
   "outputs": [
    {
     "data": {
      "text/plain": [
       "[0, 1, 2, 3, 4, 5, 6, 7, 8, 9]"
      ]
     },
     "execution_count": 3,
     "metadata": {},
     "output_type": "execute_result"
    }
   ],
   "source": [
    "[x for x in range(10)]"
   ]
  },
  {
   "cell_type": "code",
   "execution_count": 4,
   "id": "899090f5",
   "metadata": {},
   "outputs": [
    {
     "data": {
      "text/plain": [
       "[0, 2, 4, 6, 8]"
      ]
     },
     "execution_count": 4,
     "metadata": {},
     "output_type": "execute_result"
    }
   ],
   "source": [
    "[x for x in range(10) if x % 2 == 0]"
   ]
  },
  {
   "cell_type": "code",
   "execution_count": 5,
   "id": "7ecbd1e6",
   "metadata": {},
   "outputs": [
    {
     "name": "stdout",
     "output_type": "stream",
     "text": [
      "Enter a index for which you want to see square: 2\n",
      "64\n"
     ]
    }
   ],
   "source": [
    "n = [1,2,3,4,5,6,7,8]\n",
    "\n",
    "num = int(input(\"Enter a index for which you want to see square: \"))\n",
    "squares = []\n",
    "for num in n:\n",
    "    squares.append(num**2)\n",
    "idx_pos = n.index(num)\n",
    "print(squares[idx_pos])"
   ]
  },
  {
   "cell_type": "code",
   "execution_count": 6,
   "id": "98950aab",
   "metadata": {},
   "outputs": [
    {
     "name": "stdout",
     "output_type": "stream",
     "text": [
      "Enter the index for which you want to see square: 3\n",
      "9\n"
     ]
    }
   ],
   "source": [
    "num = int(input(\"Enter the index for which you want to see square: \"))\n",
    "sq = [num**2 for num in n]\n",
    "idx_pos = n.index(num)\n",
    "print(sq[idx_pos])"
   ]
  },
  {
   "cell_type": "code",
   "execution_count": 7,
   "id": "08f21142",
   "metadata": {},
   "outputs": [
    {
     "data": {
      "text/plain": [
       "{1: 1, 2: 4, 3: 9, 4: 16, 5: 25}"
      ]
     },
     "execution_count": 7,
     "metadata": {},
     "output_type": "execute_result"
    }
   ],
   "source": [
    "{k : k**2 for k in range(1,6)}"
   ]
  },
  {
   "cell_type": "code",
   "execution_count": 8,
   "id": "75adfda8",
   "metadata": {},
   "outputs": [],
   "source": [
    "#convert tuple to dict\n",
    "\n",
    "# {0:45, 1:77, 2:109, 4:data, 4:[]}\n",
    "tp = (45, 77, 109, 'data', [\"Bhagya\", \"Neha\"])"
   ]
  },
  {
   "cell_type": "code",
   "execution_count": 9,
   "id": "3dbeb7d5",
   "metadata": {},
   "outputs": [
    {
     "data": {
      "text/plain": [
       "{0: 45, 1: 77, 2: 109, 3: 'data', 4: ['Bhagya', 'Neha']}"
      ]
     },
     "execution_count": 9,
     "metadata": {},
     "output_type": "execute_result"
    }
   ],
   "source": [
    "{k : tp[k] for k in range(len(tp))} "
   ]
  },
  {
   "cell_type": "code",
   "execution_count": 10,
   "id": "609b2348",
   "metadata": {},
   "outputs": [
    {
     "data": {
      "text/plain": [
       "{0: 45, 1: 77, 2: 109, 3: 'data', 4: ['Bhagya', 'Neha']}"
      ]
     },
     "execution_count": 10,
     "metadata": {},
     "output_type": "execute_result"
    }
   ],
   "source": [
    "# another way\n",
    "\n",
    "{tp.index(v) : v for v in tp}"
   ]
  },
  {
   "cell_type": "code",
   "execution_count": 11,
   "id": "ff12dec1",
   "metadata": {},
   "outputs": [
    {
     "name": "stdout",
     "output_type": "stream",
     "text": [
      "(['Bhagya', 'Neha'], 'data', 109, 77, 45)\n"
     ]
    }
   ],
   "source": [
    "# reverse element of tuple\n",
    "\n",
    "new_tp = tp[::-1]\n",
    "print(new_tp)"
   ]
  },
  {
   "cell_type": "code",
   "execution_count": 12,
   "id": "c8a294e6",
   "metadata": {},
   "outputs": [],
   "source": [
    "s = {2,4,6,8,90,88,92,91}"
   ]
  },
  {
   "cell_type": "code",
   "execution_count": 13,
   "id": "1de86341",
   "metadata": {},
   "outputs": [
    {
     "data": {
      "text/plain": [
       "set"
      ]
     },
     "execution_count": 13,
     "metadata": {},
     "output_type": "execute_result"
    }
   ],
   "source": [
    "type(s)"
   ]
  },
  {
   "cell_type": "code",
   "execution_count": 14,
   "id": "c45e7977",
   "metadata": {},
   "outputs": [],
   "source": [
    "lst = [1,1,1,2,2,2,3,4,5]"
   ]
  },
  {
   "cell_type": "code",
   "execution_count": 15,
   "id": "b57fc501",
   "metadata": {},
   "outputs": [
    {
     "data": {
      "text/plain": [
       "[1, 1, 1, 2, 2, 2, 3, 4, 5]"
      ]
     },
     "execution_count": 15,
     "metadata": {},
     "output_type": "execute_result"
    }
   ],
   "source": [
    "lst"
   ]
  },
  {
   "cell_type": "code",
   "execution_count": 16,
   "id": "a1290b12",
   "metadata": {},
   "outputs": [
    {
     "data": {
      "text/plain": [
       "{1, 2, 3, 4, 5}"
      ]
     },
     "execution_count": 16,
     "metadata": {},
     "output_type": "execute_result"
    }
   ],
   "source": [
    "set(lst)"
   ]
  },
  {
   "cell_type": "code",
   "execution_count": 17,
   "id": "75a1f3b6",
   "metadata": {},
   "outputs": [],
   "source": [
    "s.add(100)"
   ]
  },
  {
   "cell_type": "code",
   "execution_count": 18,
   "id": "6c2ae556",
   "metadata": {},
   "outputs": [
    {
     "data": {
      "text/plain": [
       "{2, 4, 6, 8, 88, 90, 91, 92, 100}"
      ]
     },
     "execution_count": 18,
     "metadata": {},
     "output_type": "execute_result"
    }
   ],
   "source": [
    "s"
   ]
  },
  {
   "cell_type": "code",
   "execution_count": 19,
   "id": "18ba921d",
   "metadata": {},
   "outputs": [],
   "source": [
    "lst = [34,6,7,5,3,2,(88,),4,5,7,8,9,4,3,'hiii',5,(7,97,7),4,2]"
   ]
  },
  {
   "cell_type": "code",
   "execution_count": 20,
   "id": "e0508682",
   "metadata": {},
   "outputs": [
    {
     "data": {
      "text/plain": [
       "{(7, 97, 7), (88,), 2, 3, 34, 4, 5, 6, 7, 8, 9, 'hiii'}"
      ]
     },
     "execution_count": 20,
     "metadata": {},
     "output_type": "execute_result"
    }
   ],
   "source": [
    "set(lst)"
   ]
  },
  {
   "cell_type": "code",
   "execution_count": 21,
   "id": "c5c8b356",
   "metadata": {},
   "outputs": [
    {
     "data": {
      "text/plain": [
       "{1, 2, 3, 4, 5, 6, 7, 8, 9, 10, 11, 12}"
      ]
     },
     "execution_count": 21,
     "metadata": {},
     "output_type": "execute_result"
    }
   ],
   "source": [
    "s1 = {1,2,3,4,5,6,7,8}\n",
    "s2 = {5,6,7,8,9,10,11,12}\n",
    "\n",
    "s1.union(s2)"
   ]
  },
  {
   "cell_type": "code",
   "execution_count": 22,
   "id": "10a59fa2",
   "metadata": {},
   "outputs": [
    {
     "data": {
      "text/plain": [
       "{1, 2, 3, 4}"
      ]
     },
     "execution_count": 22,
     "metadata": {},
     "output_type": "execute_result"
    }
   ],
   "source": [
    "s1.difference(s2)"
   ]
  },
  {
   "cell_type": "code",
   "execution_count": 23,
   "id": "0634cd5f",
   "metadata": {},
   "outputs": [
    {
     "data": {
      "text/plain": [
       "{9, 10, 11, 12}"
      ]
     },
     "execution_count": 23,
     "metadata": {},
     "output_type": "execute_result"
    }
   ],
   "source": [
    "s2.difference(s1)"
   ]
  },
  {
   "cell_type": "code",
   "execution_count": 24,
   "id": "feaffdae",
   "metadata": {},
   "outputs": [
    {
     "data": {
      "text/plain": [
       "{5, 6, 7, 8}"
      ]
     },
     "execution_count": 24,
     "metadata": {},
     "output_type": "execute_result"
    }
   ],
   "source": [
    "s1.intersection(s2)"
   ]
  },
  {
   "cell_type": "code",
   "execution_count": 25,
   "id": "5b408a04",
   "metadata": {},
   "outputs": [
    {
     "data": {
      "text/plain": [
       "{1, 2, 3, 4}"
      ]
     },
     "execution_count": 25,
     "metadata": {},
     "output_type": "execute_result"
    }
   ],
   "source": [
    "s1-s2"
   ]
  },
  {
   "cell_type": "code",
   "execution_count": 26,
   "id": "11ec7308",
   "metadata": {},
   "outputs": [
    {
     "data": {
      "text/plain": [
       "{1, 2, 3, 4}"
      ]
     },
     "execution_count": 26,
     "metadata": {},
     "output_type": "execute_result"
    }
   ],
   "source": [
    "s1-s2"
   ]
  },
  {
   "cell_type": "code",
   "execution_count": 27,
   "id": "567609bf",
   "metadata": {},
   "outputs": [
    {
     "data": {
      "text/plain": [
       "{9, 10, 11, 12}"
      ]
     },
     "execution_count": 27,
     "metadata": {},
     "output_type": "execute_result"
    }
   ],
   "source": [
    "s2-s1"
   ]
  },
  {
   "cell_type": "code",
   "execution_count": 28,
   "id": "db3a70aa",
   "metadata": {},
   "outputs": [
    {
     "data": {
      "text/plain": [
       "1"
      ]
     },
     "execution_count": 28,
     "metadata": {},
     "output_type": "execute_result"
    }
   ],
   "source": [
    "s1.pop()"
   ]
  },
  {
   "cell_type": "code",
   "execution_count": 29,
   "id": "1b0b4296",
   "metadata": {},
   "outputs": [
    {
     "data": {
      "text/plain": [
       "['__and__',\n",
       " '__class__',\n",
       " '__class_getitem__',\n",
       " '__contains__',\n",
       " '__delattr__',\n",
       " '__dir__',\n",
       " '__doc__',\n",
       " '__eq__',\n",
       " '__format__',\n",
       " '__ge__',\n",
       " '__getattribute__',\n",
       " '__gt__',\n",
       " '__hash__',\n",
       " '__iand__',\n",
       " '__init__',\n",
       " '__init_subclass__',\n",
       " '__ior__',\n",
       " '__isub__',\n",
       " '__iter__',\n",
       " '__ixor__',\n",
       " '__le__',\n",
       " '__len__',\n",
       " '__lt__',\n",
       " '__ne__',\n",
       " '__new__',\n",
       " '__or__',\n",
       " '__rand__',\n",
       " '__reduce__',\n",
       " '__reduce_ex__',\n",
       " '__repr__',\n",
       " '__ror__',\n",
       " '__rsub__',\n",
       " '__rxor__',\n",
       " '__setattr__',\n",
       " '__sizeof__',\n",
       " '__str__',\n",
       " '__sub__',\n",
       " '__subclasshook__',\n",
       " '__xor__',\n",
       " 'add',\n",
       " 'clear',\n",
       " 'copy',\n",
       " 'difference',\n",
       " 'difference_update',\n",
       " 'discard',\n",
       " 'intersection',\n",
       " 'intersection_update',\n",
       " 'isdisjoint',\n",
       " 'issubset',\n",
       " 'issuperset',\n",
       " 'pop',\n",
       " 'remove',\n",
       " 'symmetric_difference',\n",
       " 'symmetric_difference_update',\n",
       " 'union',\n",
       " 'update']"
      ]
     },
     "execution_count": 29,
     "metadata": {},
     "output_type": "execute_result"
    }
   ],
   "source": [
    "dir(s1)"
   ]
  },
  {
   "cell_type": "code",
   "execution_count": 30,
   "id": "aa30f6f0",
   "metadata": {},
   "outputs": [],
   "source": [
    "s1.remove(2)"
   ]
  },
  {
   "cell_type": "code",
   "execution_count": 31,
   "id": "c2daeb1a",
   "metadata": {},
   "outputs": [
    {
     "data": {
      "text/plain": [
       "{3, 4, 5, 6, 7, 8}"
      ]
     },
     "execution_count": 31,
     "metadata": {},
     "output_type": "execute_result"
    }
   ],
   "source": [
    "s1"
   ]
  },
  {
   "cell_type": "code",
   "execution_count": 32,
   "id": "f50a0548",
   "metadata": {},
   "outputs": [
    {
     "data": {
      "text/plain": [
       "True"
      ]
     },
     "execution_count": 32,
     "metadata": {},
     "output_type": "execute_result"
    }
   ],
   "source": [
    "s3 = {5,6}\n",
    "s3.issubset(s1)"
   ]
  },
  {
   "cell_type": "code",
   "execution_count": 33,
   "id": "c2010e7d",
   "metadata": {},
   "outputs": [
    {
     "data": {
      "text/plain": [
       "{3, 4, 7, 8}"
      ]
     },
     "execution_count": 33,
     "metadata": {},
     "output_type": "execute_result"
    }
   ],
   "source": [
    "s3.symmetric_difference(s1)"
   ]
  },
  {
   "cell_type": "code",
   "execution_count": 34,
   "id": "902937bc",
   "metadata": {},
   "outputs": [
    {
     "data": {
      "text/plain": [
       "False"
      ]
     },
     "execution_count": 34,
     "metadata": {},
     "output_type": "execute_result"
    }
   ],
   "source": [
    "s1.issubset(s3)"
   ]
  },
  {
   "cell_type": "code",
   "execution_count": 35,
   "id": "db62f443",
   "metadata": {},
   "outputs": [
    {
     "data": {
      "text/plain": [
       "True"
      ]
     },
     "execution_count": 35,
     "metadata": {},
     "output_type": "execute_result"
    }
   ],
   "source": [
    "s1.issuperset(s3)"
   ]
  },
  {
   "cell_type": "code",
   "execution_count": 36,
   "id": "16b7b807",
   "metadata": {},
   "outputs": [
    {
     "data": {
      "text/plain": [
       "True"
      ]
     },
     "execution_count": 36,
     "metadata": {},
     "output_type": "execute_result"
    }
   ],
   "source": [
    "s1.issuperset(s3)"
   ]
  },
  {
   "cell_type": "code",
   "execution_count": 37,
   "id": "ef204484",
   "metadata": {},
   "outputs": [],
   "source": [
    "def greeting(name, age):\n",
    "    print(\"hello %s\" % name)\n",
    "    print(\"Welcome to python\")\n",
    "    print(\"Your age is %s\" %age)"
   ]
  },
  {
   "cell_type": "code",
   "execution_count": 38,
   "id": "b522c4b1",
   "metadata": {},
   "outputs": [
    {
     "name": "stdout",
     "output_type": "stream",
     "text": [
      "hello Bhagya\n",
      "Welcome to python\n",
      "Your age is 22\n"
     ]
    }
   ],
   "source": [
    "greeting('Bhagya',22)"
   ]
  },
  {
   "cell_type": "code",
   "execution_count": 39,
   "id": "bbda8838",
   "metadata": {},
   "outputs": [],
   "source": [
    "def greeting(name, age):\n",
    "    print(\"hello %s\" % name)\n",
    "    print(\"Welcome to python\")\n",
    "    if isinstance(age, (int, float)):\n",
    "        print(age)"
   ]
  },
  {
   "cell_type": "code",
   "execution_count": 40,
   "id": "dd867829",
   "metadata": {},
   "outputs": [
    {
     "name": "stdout",
     "output_type": "stream",
     "text": [
      "hello Ashish\n",
      "Welcome to python\n",
      "26\n"
     ]
    }
   ],
   "source": [
    "greeting('Ashish',26)"
   ]
  },
  {
   "cell_type": "code",
   "execution_count": 41,
   "id": "a6c7dd3e",
   "metadata": {},
   "outputs": [],
   "source": [
    "def greeting(name = '',age =23):\n",
    "    \"\"\"\n",
    "    this function is responsible to greet people\n",
    "    \"\"\"\n",
    "    print(\"Hello {}\".format(name))\n",
    "    print(\"Welcome to python\")\n",
    "    if isinstance(age,(int, float)):\n",
    "        print(\"age\", age)"
   ]
  },
  {
   "cell_type": "code",
   "execution_count": 42,
   "id": "70b136ba",
   "metadata": {},
   "outputs": [
    {
     "name": "stdout",
     "output_type": "stream",
     "text": [
      "Hello Vinnie\n",
      "Welcome to python\n",
      "age 23\n"
     ]
    }
   ],
   "source": [
    "greeting('Vinnie')"
   ]
  },
  {
   "cell_type": "code",
   "execution_count": 43,
   "id": "7e5a017e",
   "metadata": {},
   "outputs": [],
   "source": [
    "def greeting(name, age, phone=\"77652810\", address=\"pune\"):\n",
    "    \"\"\"\n",
    "    this function is responsible to greet people\n",
    "    \n",
    "    \"\"\"\n",
    "    print(\"Name {}\".format(name))\n",
    "    print(\"age {}\".format(age))\n",
    "    print(\"Phone {}\".format(phone))\n",
    "    print(\"address %s\" % address)"
   ]
  },
  {
   "cell_type": "code",
   "execution_count": 44,
   "id": "794e5e5f",
   "metadata": {},
   "outputs": [
    {
     "name": "stdout",
     "output_type": "stream",
     "text": [
      "Name Vinnie\n",
      "age 22\n",
      "Phone 77652810\n",
      "address pune\n"
     ]
    }
   ],
   "source": [
    "greeting('Vinnie',22)"
   ]
  },
  {
   "cell_type": "code",
   "execution_count": 45,
   "id": "2f45c9ca",
   "metadata": {},
   "outputs": [
    {
     "name": "stdout",
     "output_type": "stream",
     "text": [
      "Name Bhagya\n",
      "age 22\n",
      "Phone 873849811\n",
      "address Pune\n"
     ]
    }
   ],
   "source": [
    "greeting('Bhagya',22,873849811,'Pune')"
   ]
  },
  {
   "cell_type": "code",
   "execution_count": 46,
   "id": "7d78213a",
   "metadata": {},
   "outputs": [],
   "source": [
    "def greeting(*args, phone = \"1111\", address = \"Pune\"):\n",
    "    print(\"Complete args {}\".format(args))\n",
    "    print(\"Hello {}\".format(args[0]))\n",
    "    print(\"age {}\".format(args[1]))\n",
    "    print(\"phone \", phone)\n",
    "    print(\"address \", address)"
   ]
  },
  {
   "cell_type": "code",
   "execution_count": 47,
   "id": "7f8b70ff",
   "metadata": {},
   "outputs": [
    {
     "name": "stdout",
     "output_type": "stream",
     "text": [
      "Complete args ('Manu', 15)\n",
      "Hello Manu\n",
      "age 15\n",
      "phone  4853872732\n",
      "address  Pune\n"
     ]
    }
   ],
   "source": [
    "greeting('Manu',15,phone='4853872732', address = 'Pune')"
   ]
  },
  {
   "cell_type": "code",
   "execution_count": 48,
   "id": "ddccce1f",
   "metadata": {},
   "outputs": [
    {
     "name": "stdout",
     "output_type": "stream",
     "text": [
      "Complete args ('Bhagya', 21, 'Mannu', '800', 'name', {'1': 1})\n",
      "Hello Bhagya\n",
      "age 21\n",
      "phone  845367843\n",
      "address  Pune\n"
     ]
    }
   ],
   "source": [
    "greeting('Bhagya',21,'Mannu',\"800\",\"name\",{\"1\":1},phone='845367843', address = 'Pune')"
   ]
  },
  {
   "cell_type": "code",
   "execution_count": 49,
   "id": "927db08c",
   "metadata": {},
   "outputs": [],
   "source": [
    "def get_data(name, *args, phone=\"0000\", address = \"Pune\"):\n",
    "    print(\"name\", name)\n",
    "    print(\"args\", args)\n",
    "    print(\"phone\", phone)\n",
    "    print(\"address\", address)"
   ]
  },
  {
   "cell_type": "code",
   "execution_count": 50,
   "id": "b76acc88",
   "metadata": {},
   "outputs": [
    {
     "name": "stdout",
     "output_type": "stream",
     "text": [
      "name Bhagya\n",
      "args ('CS', 'Bang')\n",
      "phone 123456\n",
      "address Pune\n"
     ]
    }
   ],
   "source": [
    "get_data('Bhagya',\"CS\", \"Bang\", phone=\"123456\", address = \"Pune\")"
   ]
  },
  {
   "cell_type": "code",
   "execution_count": 51,
   "id": "9d6cfdfb",
   "metadata": {},
   "outputs": [],
   "source": [
    "def get_data(name, *args, **kwargs):\n",
    "    print(\"name \", name)\n",
    "    print(\"args \", args)\n",
    "    print(\"kwargs \", kwargs)"
   ]
  },
  {
   "cell_type": "code",
   "execution_count": 52,
   "id": "9baeaf27",
   "metadata": {},
   "outputs": [
    {
     "name": "stdout",
     "output_type": "stream",
     "text": [
      "name  Bhagya\n",
      "args  (248579, 'IT', 'Banglore')\n",
      "kwargs  {'phone': '46544', 'location': 'Pune'}\n"
     ]
    }
   ],
   "source": [
    "get_data('Bhagya', 248579, \"IT\", \"Banglore\", phone = \"46544\", location = \"Pune\")"
   ]
  },
  {
   "cell_type": "code",
   "execution_count": 53,
   "id": "cd27800b",
   "metadata": {},
   "outputs": [],
   "source": [
    "def get_data(name, *args, **kwargs):\n",
    "    print(\"name \", name)\n",
    "    print(\"args \", args)\n",
    "    print(\"Phone \", kwargs['phone'])"
   ]
  },
  {
   "cell_type": "code",
   "execution_count": 54,
   "id": "7140e88a",
   "metadata": {},
   "outputs": [
    {
     "name": "stdout",
     "output_type": "stream",
     "text": [
      "name  Neha\n",
      "args  (45708, 'Mech', 'Pune')\n",
      "Phone  48375\n"
     ]
    }
   ],
   "source": [
    "get_data('Neha', 45708, \"Mech\", \"Pune\", phone = \"48375\", location = \"Pune\")"
   ]
  },
  {
   "cell_type": "code",
   "execution_count": 55,
   "id": "af425a9f",
   "metadata": {},
   "outputs": [],
   "source": [
    "def get_data(name, *args, dis = 100, **kwargs):\n",
    "    print(\"name \", name)\n",
    "    print(\"args \", args)\n",
    "    print(\"Phone \", kwargs['phone'])\n",
    "    print(\"Discount \", dis)"
   ]
  },
  {
   "cell_type": "code",
   "execution_count": 57,
   "id": "d9ae2429",
   "metadata": {},
   "outputs": [
    {
     "name": "stdout",
     "output_type": "stream",
     "text": [
      "name  Bhagya\n",
      "args  (488091, 'IT', 'Hyderabad')\n",
      "Phone  4051049\n",
      "Discount  900\n"
     ]
    }
   ],
   "source": [
    "get_data('Bhagya', 488091, \"IT\", \"Hyderabad\",dis = 900, phone = \"4051049\", location = \"Pune\")"
   ]
  },
  {
   "cell_type": "code",
   "execution_count": 60,
   "id": "cb9086d7",
   "metadata": {},
   "outputs": [
    {
     "name": "stdout",
     "output_type": "stream",
     "text": [
      "Enter number5\n"
     ]
    },
    {
     "ename": "TypeError",
     "evalue": "'int' object is not iterable",
     "output_type": "error",
     "traceback": [
      "\u001b[1;31m---------------------------------------------------------------------------\u001b[0m",
      "\u001b[1;31mTypeError\u001b[0m                                 Traceback (most recent call last)",
      "\u001b[1;32mC:\\Users\\BHAGYA~1\\AppData\\Local\\Temp/ipykernel_11632/928709996.py\u001b[0m in \u001b[0;36m<module>\u001b[1;34m\u001b[0m\n\u001b[0;32m      1\u001b[0m \u001b[0mi\u001b[0m\u001b[1;33m=\u001b[0m\u001b[1;36m1\u001b[0m\u001b[1;33m\u001b[0m\u001b[1;33m\u001b[0m\u001b[0m\n\u001b[0;32m      2\u001b[0m \u001b[0mn\u001b[0m \u001b[1;33m=\u001b[0m \u001b[0mint\u001b[0m\u001b[1;33m(\u001b[0m\u001b[0minput\u001b[0m\u001b[1;33m(\u001b[0m\u001b[1;34m\"Enter number\"\u001b[0m\u001b[1;33m)\u001b[0m\u001b[1;33m)\u001b[0m\u001b[1;33m\u001b[0m\u001b[1;33m\u001b[0m\u001b[0m\n\u001b[1;32m----> 3\u001b[1;33m \u001b[1;32mfor\u001b[0m \u001b[0mi\u001b[0m \u001b[1;32min\u001b[0m \u001b[0mn\u001b[0m\u001b[1;33m:\u001b[0m\u001b[1;33m\u001b[0m\u001b[1;33m\u001b[0m\u001b[0m\n\u001b[0m\u001b[0;32m      4\u001b[0m     \u001b[0mprint\u001b[0m\u001b[1;33m(\u001b[0m\u001b[0mi\u001b[0m\u001b[1;33m)\u001b[0m\u001b[1;33m\u001b[0m\u001b[1;33m\u001b[0m\u001b[0m\n",
      "\u001b[1;31mTypeError\u001b[0m: 'int' object is not iterable"
     ]
    }
   ],
   "source": [
    "i=1\n",
    "n = int(input(\"Enter number\"))\n",
    "for i in n:\n",
    "    print(i)"
   ]
  },
  {
   "cell_type": "code",
   "execution_count": 61,
   "id": "e3d1ce24",
   "metadata": {},
   "outputs": [],
   "source": [
    "def dis_natural_no(n):\n",
    "    i=1\n",
    "    for i in range(1,n+1):\n",
    "        print(i)"
   ]
  },
  {
   "cell_type": "code",
   "execution_count": 62,
   "id": "f4cdabf5",
   "metadata": {},
   "outputs": [
    {
     "name": "stdout",
     "output_type": "stream",
     "text": [
      "1\n",
      "2\n",
      "3\n",
      "4\n",
      "5\n",
      "6\n",
      "7\n",
      "8\n"
     ]
    }
   ],
   "source": [
    "dis_natural_no(8)"
   ]
  },
  {
   "cell_type": "code",
   "execution_count": 63,
   "id": "e790b939",
   "metadata": {},
   "outputs": [
    {
     "data": {
      "text/plain": [
       "16"
      ]
     },
     "execution_count": 63,
     "metadata": {},
     "output_type": "execute_result"
    }
   ],
   "source": [
    "def square(x):\n",
    "    return x**2\n",
    "square(4)"
   ]
  },
  {
   "cell_type": "code",
   "execution_count": 64,
   "id": "0fa85e33",
   "metadata": {},
   "outputs": [
    {
     "data": {
      "text/plain": [
       "2025"
      ]
     },
     "execution_count": 64,
     "metadata": {},
     "output_type": "execute_result"
    }
   ],
   "source": [
    "square(45)"
   ]
  },
  {
   "cell_type": "code",
   "execution_count": 65,
   "id": "f5f4e608",
   "metadata": {},
   "outputs": [
    {
     "data": {
      "text/plain": [
       "1156"
      ]
     },
     "execution_count": 65,
     "metadata": {},
     "output_type": "execute_result"
    }
   ],
   "source": [
    "# lambda args: expression\n",
    "\n",
    "x = lambda x: x**2\n",
    "x(34)"
   ]
  },
  {
   "cell_type": "code",
   "execution_count": 66,
   "id": "48e736fb",
   "metadata": {},
   "outputs": [
    {
     "data": {
      "text/plain": [
       "9"
      ]
     },
     "execution_count": 66,
     "metadata": {},
     "output_type": "execute_result"
    }
   ],
   "source": [
    "x(3)"
   ]
  },
  {
   "cell_type": "code",
   "execution_count": 67,
   "id": "9783e9ac",
   "metadata": {},
   "outputs": [
    {
     "data": {
      "text/plain": [
       "[4, 16, 25, 64, 81]"
      ]
     },
     "execution_count": 67,
     "metadata": {},
     "output_type": "execute_result"
    }
   ],
   "source": [
    "list(map(square,(2,4,5,8,9)))"
   ]
  },
  {
   "cell_type": "code",
   "execution_count": 68,
   "id": "e54c7944",
   "metadata": {},
   "outputs": [
    {
     "data": {
      "text/plain": [
       "['PYTHON', 'IS', 'FUN']"
      ]
     },
     "execution_count": 68,
     "metadata": {},
     "output_type": "execute_result"
    }
   ],
   "source": [
    "# map(function, [], ())\n",
    "list(map(str.upper,['python', 'is', 'fun']))"
   ]
  },
  {
   "cell_type": "code",
   "execution_count": 69,
   "id": "27ce447e",
   "metadata": {},
   "outputs": [
    {
     "name": "stdout",
     "output_type": "stream",
     "text": [
      "PYTHON\n",
      "IS\n",
      "FUN\n"
     ]
    }
   ],
   "source": [
    "for w in ['python', 'is', 'fun']:\n",
    "    print(w.upper())"
   ]
  },
  {
   "cell_type": "code",
   "execution_count": 70,
   "id": "f203c5e6",
   "metadata": {},
   "outputs": [
    {
     "name": "stdout",
     "output_type": "stream",
     "text": [
      "4\n"
     ]
    }
   ],
   "source": [
    "def func():\n",
    "    x1 = 4\n",
    "    print(x1)\n",
    "func()"
   ]
  },
  {
   "cell_type": "code",
   "execution_count": 71,
   "id": "18321950",
   "metadata": {},
   "outputs": [
    {
     "name": "stdout",
     "output_type": "stream",
     "text": [
      "4\n"
     ]
    }
   ],
   "source": [
    "def func():\n",
    "    global x1\n",
    "    x1 = 4\n",
    "    print(x1)\n",
    "func()\n"
   ]
  },
  {
   "cell_type": "code",
   "execution_count": 72,
   "id": "77ba2d5f",
   "metadata": {},
   "outputs": [],
   "source": [
    "def outer():\n",
    "    i = 10\n",
    "    j = 8\n",
    "    def inner():\n",
    "        print(i)\n",
    "        print(\"i am inner function\")\n",
    "    def inner2():\n",
    "        print(j)\n",
    "        print(\"second inner\")\n",
    "    inner()\n",
    "    inner2()\n",
    "    return inner, inner2"
   ]
  },
  {
   "cell_type": "code",
   "execution_count": 73,
   "id": "c369945e",
   "metadata": {},
   "outputs": [
    {
     "name": "stdout",
     "output_type": "stream",
     "text": [
      "10\n",
      "i am inner function\n",
      "8\n",
      "second inner\n"
     ]
    }
   ],
   "source": [
    "p = outer()"
   ]
  },
  {
   "cell_type": "code",
   "execution_count": 74,
   "id": "713bc5aa",
   "metadata": {},
   "outputs": [
    {
     "name": "stdout",
     "output_type": "stream",
     "text": [
      "10\n",
      "i am inner function\n"
     ]
    }
   ],
   "source": [
    "p[0]()"
   ]
  },
  {
   "cell_type": "code",
   "execution_count": 75,
   "id": "32ec9feb",
   "metadata": {},
   "outputs": [
    {
     "name": "stdout",
     "output_type": "stream",
     "text": [
      "8\n",
      "second inner\n"
     ]
    }
   ],
   "source": [
    "p[1]()"
   ]
  },
  {
   "cell_type": "code",
   "execution_count": 76,
   "id": "b9321d8d",
   "metadata": {},
   "outputs": [
    {
     "data": {
      "text/plain": [
       "['__add__',\n",
       " '__class__',\n",
       " '__class_getitem__',\n",
       " '__contains__',\n",
       " '__delattr__',\n",
       " '__dir__',\n",
       " '__doc__',\n",
       " '__eq__',\n",
       " '__format__',\n",
       " '__ge__',\n",
       " '__getattribute__',\n",
       " '__getitem__',\n",
       " '__getnewargs__',\n",
       " '__gt__',\n",
       " '__hash__',\n",
       " '__init__',\n",
       " '__init_subclass__',\n",
       " '__iter__',\n",
       " '__le__',\n",
       " '__len__',\n",
       " '__lt__',\n",
       " '__mul__',\n",
       " '__ne__',\n",
       " '__new__',\n",
       " '__reduce__',\n",
       " '__reduce_ex__',\n",
       " '__repr__',\n",
       " '__rmul__',\n",
       " '__setattr__',\n",
       " '__sizeof__',\n",
       " '__str__',\n",
       " '__subclasshook__',\n",
       " 'count',\n",
       " 'index']"
      ]
     },
     "execution_count": 76,
     "metadata": {},
     "output_type": "execute_result"
    }
   ],
   "source": [
    "dir(p)"
   ]
  },
  {
   "cell_type": "code",
   "execution_count": 77,
   "id": "d2b7f2e7",
   "metadata": {},
   "outputs": [],
   "source": [
    "def outer(f):\n",
    "    def inner():\n",
    "        result = f()\n",
    "        return result ** 2\n",
    "    return inner"
   ]
  },
  {
   "cell_type": "code",
   "execution_count": 78,
   "id": "7c219d20",
   "metadata": {},
   "outputs": [],
   "source": [
    "def num():\n",
    "    return 5"
   ]
  },
  {
   "cell_type": "code",
   "execution_count": 79,
   "id": "de23d048",
   "metadata": {},
   "outputs": [],
   "source": [
    "r = outer(num)"
   ]
  },
  {
   "cell_type": "code",
   "execution_count": 80,
   "id": "bfb1b48a",
   "metadata": {},
   "outputs": [
    {
     "data": {
      "text/plain": [
       "25"
      ]
     },
     "execution_count": 80,
     "metadata": {},
     "output_type": "execute_result"
    }
   ],
   "source": [
    "r()"
   ]
  },
  {
   "cell_type": "code",
   "execution_count": 81,
   "id": "d59e030f",
   "metadata": {},
   "outputs": [],
   "source": [
    "@outer\n",
    "def num():\n",
    "    return 5"
   ]
  },
  {
   "cell_type": "code",
   "execution_count": 82,
   "id": "5db096cf",
   "metadata": {},
   "outputs": [
    {
     "data": {
      "text/plain": [
       "25"
      ]
     },
     "execution_count": 82,
     "metadata": {},
     "output_type": "execute_result"
    }
   ],
   "source": [
    "num()"
   ]
  },
  {
   "cell_type": "code",
   "execution_count": 83,
   "id": "ff81706e",
   "metadata": {},
   "outputs": [],
   "source": [
    "def outer(f):\n",
    "    def inner(n1,n2):\n",
    "        result = f(n1,n2)\n",
    "        return result **2\n",
    "    return inner"
   ]
  },
  {
   "cell_type": "code",
   "execution_count": 84,
   "id": "3f6ba6e0",
   "metadata": {},
   "outputs": [],
   "source": [
    "@outer\n",
    "def num(n1,n2):\n",
    "    return n1+n2+5"
   ]
  },
  {
   "cell_type": "code",
   "execution_count": 85,
   "id": "56264d75",
   "metadata": {},
   "outputs": [
    {
     "data": {
      "text/plain": [
       "64"
      ]
     },
     "execution_count": 85,
     "metadata": {},
     "output_type": "execute_result"
    }
   ],
   "source": [
    "num(1,2)"
   ]
  },
  {
   "cell_type": "code",
   "execution_count": 86,
   "id": "8c467681",
   "metadata": {},
   "outputs": [],
   "source": [
    "def validate(func):\n",
    "    def validator(*args, **kwargs):\n",
    "        if len(args)>1:\n",
    "            if args[1] == 0:\n",
    "                print(\"we are expecting non zero number\")\n",
    "                return None\n",
    "            else:\n",
    "                power = func(args[0],args[1])\n",
    "                return power\n",
    "        else:\n",
    "            print(\"Invalid args\")\n",
    "    return validator"
   ]
  },
  {
   "cell_type": "code",
   "execution_count": 87,
   "id": "11003e1b",
   "metadata": {},
   "outputs": [],
   "source": [
    "import math"
   ]
  },
  {
   "cell_type": "code",
   "execution_count": 88,
   "id": "1f3b67d5",
   "metadata": {},
   "outputs": [],
   "source": [
    "@validate\n",
    "def mypower(x,y):\n",
    "    return math.pow(x,y)"
   ]
  },
  {
   "cell_type": "code",
   "execution_count": 89,
   "id": "57bd2174",
   "metadata": {},
   "outputs": [
    {
     "name": "stdout",
     "output_type": "stream",
     "text": [
      "we are expecting non zero number\n"
     ]
    }
   ],
   "source": [
    "mypower(10,0)"
   ]
  },
  {
   "cell_type": "code",
   "execution_count": 90,
   "id": "66713d07",
   "metadata": {},
   "outputs": [
    {
     "data": {
      "text/plain": [
       "100000.0"
      ]
     },
     "execution_count": 90,
     "metadata": {},
     "output_type": "execute_result"
    }
   ],
   "source": [
    "mypower(10,5)"
   ]
  },
  {
   "cell_type": "code",
   "execution_count": 91,
   "id": "64f6c68f",
   "metadata": {},
   "outputs": [
    {
     "name": "stdout",
     "output_type": "stream",
     "text": [
      "Invalid args\n"
     ]
    }
   ],
   "source": [
    "mypower(10)"
   ]
  },
  {
   "cell_type": "code",
   "execution_count": 92,
   "id": "1b536ae8",
   "metadata": {},
   "outputs": [
    {
     "data": {
      "text/plain": [
       "[2, 4, 6, 8, 10]"
      ]
     },
     "execution_count": 92,
     "metadata": {},
     "output_type": "execute_result"
    }
   ],
   "source": [
    "list_1 = [1,2,3,4,5,6,7,8,9,10]\n",
    "list(filter(lambda x: x % 2 == 0, list_1))"
   ]
  },
  {
   "cell_type": "code",
   "execution_count": 94,
   "id": "b95aeae1",
   "metadata": {},
   "outputs": [
    {
     "data": {
      "text/plain": [
       "[1, 8, 27, 64, 125, 216, 343, 512, 729]"
      ]
     },
     "execution_count": 94,
     "metadata": {},
     "output_type": "execute_result"
    }
   ],
   "source": [
    "list_1 = [1,2,3,4,5,6,7,8,9]\n",
    "list(map(lambda x: pow(x,3), list_1))"
   ]
  },
  {
   "cell_type": "code",
   "execution_count": 95,
   "id": "c16c06ba",
   "metadata": {},
   "outputs": [],
   "source": [
    "# general purpose decorators\n",
    "\n",
    "def a_decorator_passing_arbitrary_arguments(function_to_decorate):\n",
    "    \n",
    "    def a_wrapper_accepting_arbitrary_arguments(*args, **kwargs):\n",
    "        print(\"The positional arguments are \", args)\n",
    "        print(\"The keyword arguments are \", kwargs)\n",
    "        function_to_decorate(*args)\n",
    "    \n",
    "    return a_wrapper_accepting_arbitrary_arguments\n",
    "\n",
    "@a_decorator_passing_arbitrary_arguments\n",
    "def function_with_no_arguments():\n",
    "    print(\"No arguments here....\")"
   ]
  },
  {
   "cell_type": "code",
   "execution_count": 96,
   "id": "712e33a5",
   "metadata": {},
   "outputs": [
    {
     "name": "stdout",
     "output_type": "stream",
     "text": [
      "The positional arguments are  ()\n",
      "The keyword arguments are  {}\n",
      "No arguments here....\n"
     ]
    }
   ],
   "source": [
    "function_with_no_arguments()"
   ]
  },
  {
   "cell_type": "code",
   "execution_count": 97,
   "id": "01d98b8c",
   "metadata": {},
   "outputs": [
    {
     "name": "stdout",
     "output_type": "stream",
     "text": [
      "positional arguments are (10, 20, 30)\n",
      "The Keyword arguments are {}\n",
      "10 20 30\n"
     ]
    }
   ],
   "source": [
    "# passing positional arguments to decorators\n",
    "def accept_the_arguments(function_to_decorator):\n",
    "    def inner_function(*args, **kwargs):\n",
    "        print(\"positional arguments are\", args)\n",
    "        print(\"The Keyword arguments are\", kwargs)\n",
    "        function_to_decorator(*args)\n",
    "    return inner_function\n",
    "\n",
    "@accept_the_arguments\n",
    "def function_with_args(a,b,c):\n",
    "    print(a,b,c)\n",
    "\n",
    "function_with_args(10,20,30)"
   ]
  },
  {
   "cell_type": "code",
   "execution_count": 98,
   "id": "a1cdf413",
   "metadata": {},
   "outputs": [],
   "source": [
    "# passing kwargs based arguments\n",
    "\n",
    "def accepting_kwargs(function_to_decorator):\n",
    "    def inner_function(*args, **kwargs):\n",
    "        print(\"args values \", args)\n",
    "        print(\"positional args \", kwargs)\n",
    "        function_to_decorator(*args, **kwargs)\n",
    "    return inner_function\n",
    "\n",
    "@accepting_kwargs\n",
    "def function_with_args(*args, **kwargs):\n",
    "    print(\"Inside function args\", args)\n",
    "    print(\"kwargs..\", kwargs)"
   ]
  },
  {
   "cell_type": "code",
   "execution_count": 99,
   "id": "7e450352",
   "metadata": {},
   "outputs": [
    {
     "name": "stdout",
     "output_type": "stream",
     "text": [
      "args values  (5, 6, 7)\n",
      "positional args  {'name': 'Bhagyashree', 'address': 'Pune'}\n",
      "Inside function args (5, 6, 7)\n",
      "kwargs.. {'name': 'Bhagyashree', 'address': 'Pune'}\n"
     ]
    }
   ],
   "source": [
    "function_with_args(5,6,7,name = \"Bhagyashree\", address = \"Pune\")"
   ]
  },
  {
   "cell_type": "code",
   "execution_count": 100,
   "id": "22389e99",
   "metadata": {},
   "outputs": [],
   "source": [
    "# passing argument to decorator\n",
    "\n",
    "def decorator_with_args(decorator_args1, decorator_args2, decorator_args3):\n",
    "    \n",
    "    def decorator(func):\n",
    "        def wrapper(function_args1, function_args2, function_args3):\n",
    "            print(\"The wrapper can access all the variables\\n\"\n",
    "                  \"\\t from the decorator maker:{0} {1} {2} \\n\"\n",
    "                  \"\\t from the function call:{3} {4} {5} \\n\"\n",
    "                 \"and pass them into decorator function\".format(decorator_args1,\n",
    "                                                                decorator_args2,\n",
    "                                                                decorator_args3,\n",
    "                                                                function_args1,\n",
    "                                                                function_args2,\n",
    "                                                                function_args3\n",
    "                                                                ))\n",
    "            return func(function_args1,function_args2,function_args3)\n",
    "        return wrapper\n",
    "    return decorator\n",
    "\n",
    "pandas = \"Pandas\"\n",
    "@decorator_with_args(pandas, \"Numpy\", \"Sciki-learn\")\n",
    "def actual_function(function_args1, function_args2, function_args3):\n",
    "    print(\"This is decorated function and it only knows its args: {0}, {1}, {2}\".format(\n",
    "        function_args1, function_args2, function_args3))\n"
   ]
  },
  {
   "cell_type": "code",
   "execution_count": 101,
   "id": "8cb586ae",
   "metadata": {},
   "outputs": [
    {
     "name": "stdout",
     "output_type": "stream",
     "text": [
      "The wrapper can access all the variables\n",
      "\t from the decorator maker:Pandas Numpy Sciki-learn \n",
      "\t from the function call:Joy Science Tools \n",
      "and pass them into decorator function\n",
      "This is decorated function and it only knows its args: Joy, Science, Tools\n"
     ]
    }
   ],
   "source": [
    "actual_function(\"Joy\", \"Science\", \"Tools\")"
   ]
  },
  {
   "cell_type": "code",
   "execution_count": 102,
   "id": "c216128c",
   "metadata": {},
   "outputs": [],
   "source": [
    "def count_digit(num):\n",
    "    count = 0\n",
    "    while num != 0:\n",
    "        num //=10\n",
    "        count += 1\n",
    "    \n",
    "    print(\"Number of Digits: \" + str(count))"
   ]
  },
  {
   "cell_type": "code",
   "execution_count": 103,
   "id": "d8da72be",
   "metadata": {},
   "outputs": [
    {
     "name": "stdout",
     "output_type": "stream",
     "text": [
      "Number of Digits: 5\n"
     ]
    }
   ],
   "source": [
    "count_digit(49875)"
   ]
  },
  {
   "cell_type": "code",
   "execution_count": 104,
   "id": "91b02dfd",
   "metadata": {},
   "outputs": [
    {
     "name": "stdout",
     "output_type": "stream",
     "text": [
      "Number of Digits: 2\n"
     ]
    }
   ],
   "source": [
    "count_digit(52)"
   ]
  },
  {
   "cell_type": "code",
   "execution_count": 105,
   "id": "3f01cab1",
   "metadata": {},
   "outputs": [],
   "source": [
    "# chaining of decorator\n",
    "\n",
    "from functools import wraps\n",
    "#code for testing decorator chaining\n",
    "\n",
    "def decor1(func):\n",
    "    def inner():\n",
    "        x = func()\n",
    "        print(\"X in decor 2nd\", x)\n",
    "        return x*x # logic doing mul\n",
    "    return inner\n",
    "\n",
    "def decor(func):\n",
    "    def inner():\n",
    "        x = func()\n",
    "        print(\"X in decor 1\", x)\n",
    "        return 2*x # multiply with 2\n",
    "    return inner\n",
    "\n",
    "@decor1\n",
    "@decor\n",
    "def num():\n",
    "    return 10"
   ]
  },
  {
   "cell_type": "code",
   "execution_count": 106,
   "id": "fb2aad92",
   "metadata": {},
   "outputs": [
    {
     "name": "stdout",
     "output_type": "stream",
     "text": [
      "X in decor 1 10\n",
      "X in decor 2nd 20\n"
     ]
    },
    {
     "data": {
      "text/plain": [
       "400"
      ]
     },
     "execution_count": 106,
     "metadata": {},
     "output_type": "execute_result"
    }
   ],
   "source": [
    "num()"
   ]
  },
  {
   "cell_type": "code",
   "execution_count": 107,
   "id": "2cb2f5c4",
   "metadata": {},
   "outputs": [
    {
     "name": "stdout",
     "output_type": "stream",
     "text": [
      "hi\n",
      "hello\n"
     ]
    },
    {
     "data": {
      "text/plain": [
       "'hello'"
      ]
     },
     "execution_count": 107,
     "metadata": {},
     "output_type": "execute_result"
    }
   ],
   "source": [
    "def simple_func(): # define\n",
    "    print(\"hi\")    # logic1\n",
    "    print('hello') # 2\n",
    "    return 'hello' # 3 manupulation\n",
    "                   # return computed\n",
    "                     # logic...\n",
    "simple_func()"
   ]
  },
  {
   "cell_type": "code",
   "execution_count": 108,
   "id": "f4dac8c9",
   "metadata": {},
   "outputs": [
    {
     "data": {
      "text/plain": [
       "function"
      ]
     },
     "execution_count": 108,
     "metadata": {},
     "output_type": "execute_result"
    }
   ],
   "source": [
    "type(simple_func)"
   ]
  },
  {
   "cell_type": "code",
   "execution_count": 109,
   "id": "afd18b60",
   "metadata": {},
   "outputs": [],
   "source": [
    "def simple_generator():\n",
    "    print(\"hiii\")\n",
    "    yield 'hello'\n",
    "    x = 10\n",
    "    y = x + 5\n",
    "    print(y)\n",
    "    yield \"Hello World\"\n",
    "    yield x"
   ]
  },
  {
   "cell_type": "code",
   "execution_count": 110,
   "id": "9ae833fe",
   "metadata": {},
   "outputs": [],
   "source": [
    "ret = simple_generator()"
   ]
  },
  {
   "cell_type": "code",
   "execution_count": 111,
   "id": "b9adfc04",
   "metadata": {},
   "outputs": [
    {
     "data": {
      "text/plain": [
       "<generator object simple_generator at 0x000001308F06D3C0>"
      ]
     },
     "execution_count": 111,
     "metadata": {},
     "output_type": "execute_result"
    }
   ],
   "source": [
    "ret"
   ]
  },
  {
   "cell_type": "code",
   "execution_count": 119,
   "id": "9b6ca1fc",
   "metadata": {},
   "outputs": [],
   "source": [
    "for val in ret :\n",
    "    print(val)"
   ]
  },
  {
   "cell_type": "code",
   "execution_count": 115,
   "id": "7d5b9b70",
   "metadata": {},
   "outputs": [
    {
     "data": {
      "text/plain": [
       "[]"
      ]
     },
     "execution_count": 115,
     "metadata": {},
     "output_type": "execute_result"
    }
   ],
   "source": [
    "list(ret)"
   ]
  },
  {
   "cell_type": "code",
   "execution_count": 123,
   "id": "ba0d8311",
   "metadata": {},
   "outputs": [],
   "source": [
    "def fibo(n):\n",
    "    numbers = []\n",
    "    first,second = 0,1\n",
    "    while first < n:\n",
    "        numbers.append(first)\n",
    "        first, second = second, first+second\n",
    "    print(numbers)"
   ]
  },
  {
   "cell_type": "code",
   "execution_count": 124,
   "id": "2fb3f5b8",
   "metadata": {},
   "outputs": [
    {
     "name": "stdout",
     "output_type": "stream",
     "text": [
      "[0, 1, 1, 2, 3, 5, 8]\n"
     ]
    }
   ],
   "source": [
    "fibo(10)"
   ]
  },
  {
   "cell_type": "code",
   "execution_count": 125,
   "id": "301e4ba3",
   "metadata": {},
   "outputs": [],
   "source": [
    "def fibo(num):\n",
    "    first, second = 0,1\n",
    "    while num:\n",
    "        yield first\n",
    "        first, second = second, first+second\n",
    "        num -= 1"
   ]
  },
  {
   "cell_type": "code",
   "execution_count": 126,
   "id": "1a0bb75a",
   "metadata": {},
   "outputs": [],
   "source": [
    "ret = fibo(50)"
   ]
  },
  {
   "cell_type": "code",
   "execution_count": 127,
   "id": "9d842daa",
   "metadata": {},
   "outputs": [
    {
     "data": {
      "text/plain": [
       "<generator object fibo at 0x000001308F06DBA0>"
      ]
     },
     "execution_count": 127,
     "metadata": {},
     "output_type": "execute_result"
    }
   ],
   "source": [
    "ret"
   ]
  },
  {
   "cell_type": "code",
   "execution_count": 128,
   "id": "9ca82395",
   "metadata": {},
   "outputs": [
    {
     "data": {
      "text/plain": [
       "0"
      ]
     },
     "execution_count": 128,
     "metadata": {},
     "output_type": "execute_result"
    }
   ],
   "source": [
    "next(ret)"
   ]
  },
  {
   "cell_type": "code",
   "execution_count": 129,
   "id": "4ce98c6b",
   "metadata": {},
   "outputs": [
    {
     "data": {
      "text/plain": [
       "1"
      ]
     },
     "execution_count": 129,
     "metadata": {},
     "output_type": "execute_result"
    }
   ],
   "source": [
    "next(ret)"
   ]
  },
  {
   "cell_type": "code",
   "execution_count": 130,
   "id": "2d5a3def",
   "metadata": {},
   "outputs": [
    {
     "data": {
      "text/plain": [
       "[1,\n",
       " 2,\n",
       " 3,\n",
       " 5,\n",
       " 8,\n",
       " 13,\n",
       " 21,\n",
       " 34,\n",
       " 55,\n",
       " 89,\n",
       " 144,\n",
       " 233,\n",
       " 377,\n",
       " 610,\n",
       " 987,\n",
       " 1597,\n",
       " 2584,\n",
       " 4181,\n",
       " 6765,\n",
       " 10946,\n",
       " 17711,\n",
       " 28657,\n",
       " 46368,\n",
       " 75025,\n",
       " 121393,\n",
       " 196418,\n",
       " 317811,\n",
       " 514229,\n",
       " 832040,\n",
       " 1346269,\n",
       " 2178309,\n",
       " 3524578,\n",
       " 5702887,\n",
       " 9227465,\n",
       " 14930352,\n",
       " 24157817,\n",
       " 39088169,\n",
       " 63245986,\n",
       " 102334155,\n",
       " 165580141,\n",
       " 267914296,\n",
       " 433494437,\n",
       " 701408733,\n",
       " 1134903170,\n",
       " 1836311903,\n",
       " 2971215073,\n",
       " 4807526976,\n",
       " 7778742049]"
      ]
     },
     "execution_count": 130,
     "metadata": {},
     "output_type": "execute_result"
    }
   ],
   "source": [
    "list(ret)"
   ]
  },
  {
   "cell_type": "code",
   "execution_count": 131,
   "id": "84209160",
   "metadata": {},
   "outputs": [],
   "source": [
    "import random\n",
    "name = [\"abc\", \"mno\", \"qrs\", \"wxy\"]\n",
    "designation = [\"mgr\", \"se\", \"sse\", \"admin\", \"hr\", \"fin\"]\n",
    "\n",
    "def people_list():\n",
    "    people = []\n",
    "    for i in range(100000):\n",
    "        person = {\"id\":i , \"name\":random.choice(name), \"designations\": random.choice(designation)}\n",
    "        people.append(person)\n",
    "    return people\n",
    "\n",
    "def people_generator():\n",
    "    people = []\n",
    "    for i in range(100000):\n",
    "        person = {\"id\":i , \"name\":random.choice(name), \"designations\": random.choice(designation)}\n",
    "        people.append(person)\n",
    "    yield people"
   ]
  },
  {
   "cell_type": "code",
   "execution_count": 132,
   "id": "0fd195b1",
   "metadata": {},
   "outputs": [
    {
     "data": {
      "text/plain": [
       "[{'id': 0, 'name': 'wxy', 'designations': 'hr'},\n",
       " {'id': 1, 'name': 'mno', 'designations': 'sse'}]"
      ]
     },
     "execution_count": 132,
     "metadata": {},
     "output_type": "execute_result"
    }
   ],
   "source": [
    "p = people_list()\n",
    "p[:2]"
   ]
  },
  {
   "cell_type": "code",
   "execution_count": 133,
   "id": "3319cd77",
   "metadata": {},
   "outputs": [],
   "source": [
    "ret = people_generator()"
   ]
  },
  {
   "cell_type": "code",
   "execution_count": 134,
   "id": "0067cb25",
   "metadata": {},
   "outputs": [
    {
     "data": {
      "text/plain": [
       "<generator object people_generator at 0x000001308F06DDD0>"
      ]
     },
     "execution_count": 134,
     "metadata": {},
     "output_type": "execute_result"
    }
   ],
   "source": [
    "ret"
   ]
  },
  {
   "cell_type": "code",
   "execution_count": 135,
   "id": "859042a6",
   "metadata": {},
   "outputs": [
    {
     "data": {
      "text/plain": [
       "[{'id': 0, 'name': 'wxy', 'designations': 'sse'},\n",
       " {'id': 1, 'name': 'mno', 'designations': 'fin'},\n",
       " {'id': 2, 'name': 'wxy', 'designations': 'admin'},\n",
       " {'id': 3, 'name': 'mno', 'designations': 'fin'},\n",
       " {'id': 4, 'name': 'abc', 'designations': 'se'},\n",
       " {'id': 5, 'name': 'abc', 'designations': 'admin'},\n",
       " {'id': 6, 'name': 'mno', 'designations': 'fin'},\n",
       " {'id': 7, 'name': 'abc', 'designations': 'admin'},\n",
       " {'id': 8, 'name': 'abc', 'designations': 'se'},\n",
       " {'id': 9, 'name': 'mno', 'designations': 'se'},\n",
       " {'id': 10, 'name': 'mno', 'designations': 'fin'},\n",
       " {'id': 11, 'name': 'wxy', 'designations': 'admin'},\n",
       " {'id': 12, 'name': 'wxy', 'designations': 'sse'},\n",
       " {'id': 13, 'name': 'mno', 'designations': 'se'},\n",
       " {'id': 14, 'name': 'qrs', 'designations': 'hr'},\n",
       " {'id': 15, 'name': 'abc', 'designations': 'se'},\n",
       " {'id': 16, 'name': 'mno', 'designations': 'fin'},\n",
       " {'id': 17, 'name': 'mno', 'designations': 'sse'},\n",
       " {'id': 18, 'name': 'wxy', 'designations': 'admin'},\n",
       " {'id': 19, 'name': 'abc', 'designations': 'se'},\n",
       " {'id': 20, 'name': 'wxy', 'designations': 'hr'},\n",
       " {'id': 21, 'name': 'qrs', 'designations': 'fin'},\n",
       " {'id': 22, 'name': 'abc', 'designations': 'se'},\n",
       " {'id': 23, 'name': 'abc', 'designations': 'mgr'},\n",
       " {'id': 24, 'name': 'qrs', 'designations': 'se'},\n",
       " {'id': 25, 'name': 'qrs', 'designations': 'se'},\n",
       " {'id': 26, 'name': 'abc', 'designations': 'hr'},\n",
       " {'id': 27, 'name': 'mno', 'designations': 'mgr'},\n",
       " {'id': 28, 'name': 'wxy', 'designations': 'fin'},\n",
       " {'id': 29, 'name': 'mno', 'designations': 'fin'},\n",
       " {'id': 30, 'name': 'wxy', 'designations': 'admin'},\n",
       " {'id': 31, 'name': 'abc', 'designations': 'fin'},\n",
       " {'id': 32, 'name': 'wxy', 'designations': 'hr'},\n",
       " {'id': 33, 'name': 'mno', 'designations': 'admin'},\n",
       " {'id': 34, 'name': 'mno', 'designations': 'sse'},\n",
       " {'id': 35, 'name': 'abc', 'designations': 'admin'},\n",
       " {'id': 36, 'name': 'mno', 'designations': 'se'},\n",
       " {'id': 37, 'name': 'wxy', 'designations': 'sse'},\n",
       " {'id': 38, 'name': 'qrs', 'designations': 'mgr'},\n",
       " {'id': 39, 'name': 'wxy', 'designations': 'admin'},\n",
       " {'id': 40, 'name': 'wxy', 'designations': 'sse'},\n",
       " {'id': 41, 'name': 'wxy', 'designations': 'hr'},\n",
       " {'id': 42, 'name': 'wxy', 'designations': 'hr'},\n",
       " {'id': 43, 'name': 'qrs', 'designations': 'sse'},\n",
       " {'id': 44, 'name': 'abc', 'designations': 'fin'},\n",
       " {'id': 45, 'name': 'qrs', 'designations': 'admin'},\n",
       " {'id': 46, 'name': 'wxy', 'designations': 'mgr'},\n",
       " {'id': 47, 'name': 'abc', 'designations': 'admin'},\n",
       " {'id': 48, 'name': 'qrs', 'designations': 'mgr'},\n",
       " {'id': 49, 'name': 'qrs', 'designations': 'se'},\n",
       " {'id': 50, 'name': 'mno', 'designations': 'admin'},\n",
       " {'id': 51, 'name': 'mno', 'designations': 'mgr'},\n",
       " {'id': 52, 'name': 'mno', 'designations': 'fin'},\n",
       " {'id': 53, 'name': 'qrs', 'designations': 'hr'},\n",
       " {'id': 54, 'name': 'qrs', 'designations': 'admin'},\n",
       " {'id': 55, 'name': 'mno', 'designations': 'sse'},\n",
       " {'id': 56, 'name': 'qrs', 'designations': 'fin'},\n",
       " {'id': 57, 'name': 'wxy', 'designations': 'admin'},\n",
       " {'id': 58, 'name': 'qrs', 'designations': 'se'},\n",
       " {'id': 59, 'name': 'qrs', 'designations': 'fin'},\n",
       " {'id': 60, 'name': 'abc', 'designations': 'fin'},\n",
       " {'id': 61, 'name': 'mno', 'designations': 'admin'},\n",
       " {'id': 62, 'name': 'qrs', 'designations': 'fin'},\n",
       " {'id': 63, 'name': 'abc', 'designations': 'hr'},\n",
       " {'id': 64, 'name': 'abc', 'designations': 'mgr'},\n",
       " {'id': 65, 'name': 'mno', 'designations': 'mgr'},\n",
       " {'id': 66, 'name': 'qrs', 'designations': 'admin'},\n",
       " {'id': 67, 'name': 'wxy', 'designations': 'mgr'},\n",
       " {'id': 68, 'name': 'mno', 'designations': 'se'},\n",
       " {'id': 69, 'name': 'mno', 'designations': 'se'},\n",
       " {'id': 70, 'name': 'abc', 'designations': 'admin'},\n",
       " {'id': 71, 'name': 'wxy', 'designations': 'se'},\n",
       " {'id': 72, 'name': 'wxy', 'designations': 'se'},\n",
       " {'id': 73, 'name': 'abc', 'designations': 'se'},\n",
       " {'id': 74, 'name': 'abc', 'designations': 'se'},\n",
       " {'id': 75, 'name': 'wxy', 'designations': 'fin'},\n",
       " {'id': 76, 'name': 'mno', 'designations': 'hr'},\n",
       " {'id': 77, 'name': 'abc', 'designations': 'hr'},\n",
       " {'id': 78, 'name': 'mno', 'designations': 'fin'},\n",
       " {'id': 79, 'name': 'mno', 'designations': 'mgr'},\n",
       " {'id': 80, 'name': 'qrs', 'designations': 'fin'},\n",
       " {'id': 81, 'name': 'abc', 'designations': 'sse'},\n",
       " {'id': 82, 'name': 'wxy', 'designations': 'se'},\n",
       " {'id': 83, 'name': 'qrs', 'designations': 'admin'},\n",
       " {'id': 84, 'name': 'mno', 'designations': 'admin'},\n",
       " {'id': 85, 'name': 'abc', 'designations': 'admin'},\n",
       " {'id': 86, 'name': 'wxy', 'designations': 'mgr'},\n",
       " {'id': 87, 'name': 'wxy', 'designations': 'mgr'},\n",
       " {'id': 88, 'name': 'abc', 'designations': 'hr'},\n",
       " {'id': 89, 'name': 'abc', 'designations': 'mgr'},\n",
       " {'id': 90, 'name': 'abc', 'designations': 'hr'},\n",
       " {'id': 91, 'name': 'wxy', 'designations': 'fin'},\n",
       " {'id': 92, 'name': 'mno', 'designations': 'admin'},\n",
       " {'id': 93, 'name': 'abc', 'designations': 'mgr'},\n",
       " {'id': 94, 'name': 'abc', 'designations': 'mgr'},\n",
       " {'id': 95, 'name': 'abc', 'designations': 'admin'},\n",
       " {'id': 96, 'name': 'qrs', 'designations': 'admin'},\n",
       " {'id': 97, 'name': 'wxy', 'designations': 'fin'},\n",
       " {'id': 98, 'name': 'qrs', 'designations': 'hr'},\n",
       " {'id': 99, 'name': 'wxy', 'designations': 'hr'},\n",
       " {'id': 100, 'name': 'abc', 'designations': 'sse'},\n",
       " {'id': 101, 'name': 'wxy', 'designations': 'mgr'},\n",
       " {'id': 102, 'name': 'abc', 'designations': 'admin'},\n",
       " {'id': 103, 'name': 'abc', 'designations': 'hr'},\n",
       " {'id': 104, 'name': 'wxy', 'designations': 'admin'},\n",
       " {'id': 105, 'name': 'qrs', 'designations': 'admin'},\n",
       " {'id': 106, 'name': 'qrs', 'designations': 'se'},\n",
       " {'id': 107, 'name': 'mno', 'designations': 'se'},\n",
       " {'id': 108, 'name': 'mno', 'designations': 'hr'},\n",
       " {'id': 109, 'name': 'qrs', 'designations': 'hr'},\n",
       " {'id': 110, 'name': 'wxy', 'designations': 'se'},\n",
       " {'id': 111, 'name': 'qrs', 'designations': 'hr'},\n",
       " {'id': 112, 'name': 'abc', 'designations': 'mgr'},\n",
       " {'id': 113, 'name': 'mno', 'designations': 'mgr'},\n",
       " {'id': 114, 'name': 'abc', 'designations': 'sse'},\n",
       " {'id': 115, 'name': 'qrs', 'designations': 'hr'},\n",
       " {'id': 116, 'name': 'mno', 'designations': 'fin'},\n",
       " {'id': 117, 'name': 'wxy', 'designations': 'admin'},\n",
       " {'id': 118, 'name': 'qrs', 'designations': 'mgr'},\n",
       " {'id': 119, 'name': 'abc', 'designations': 'mgr'},\n",
       " {'id': 120, 'name': 'abc', 'designations': 'fin'},\n",
       " {'id': 121, 'name': 'qrs', 'designations': 'sse'},\n",
       " {'id': 122, 'name': 'mno', 'designations': 'mgr'},\n",
       " {'id': 123, 'name': 'wxy', 'designations': 'se'},\n",
       " {'id': 124, 'name': 'wxy', 'designations': 'admin'},\n",
       " {'id': 125, 'name': 'mno', 'designations': 'sse'},\n",
       " {'id': 126, 'name': 'qrs', 'designations': 'sse'},\n",
       " {'id': 127, 'name': 'mno', 'designations': 'se'},\n",
       " {'id': 128, 'name': 'qrs', 'designations': 'sse'},\n",
       " {'id': 129, 'name': 'mno', 'designations': 'hr'},\n",
       " {'id': 130, 'name': 'wxy', 'designations': 'se'},\n",
       " {'id': 131, 'name': 'qrs', 'designations': 'fin'},\n",
       " {'id': 132, 'name': 'wxy', 'designations': 'hr'},\n",
       " {'id': 133, 'name': 'abc', 'designations': 'admin'},\n",
       " {'id': 134, 'name': 'mno', 'designations': 'mgr'},\n",
       " {'id': 135, 'name': 'abc', 'designations': 'fin'},\n",
       " {'id': 136, 'name': 'abc', 'designations': 'mgr'},\n",
       " {'id': 137, 'name': 'mno', 'designations': 'sse'},\n",
       " {'id': 138, 'name': 'qrs', 'designations': 'fin'},\n",
       " {'id': 139, 'name': 'qrs', 'designations': 'admin'},\n",
       " {'id': 140, 'name': 'abc', 'designations': 'mgr'},\n",
       " {'id': 141, 'name': 'mno', 'designations': 'hr'},\n",
       " {'id': 142, 'name': 'mno', 'designations': 'fin'},\n",
       " {'id': 143, 'name': 'mno', 'designations': 'sse'},\n",
       " {'id': 144, 'name': 'qrs', 'designations': 'hr'},\n",
       " {'id': 145, 'name': 'abc', 'designations': 'admin'},\n",
       " {'id': 146, 'name': 'qrs', 'designations': 'hr'},\n",
       " {'id': 147, 'name': 'wxy', 'designations': 'hr'},\n",
       " {'id': 148, 'name': 'abc', 'designations': 'mgr'},\n",
       " {'id': 149, 'name': 'mno', 'designations': 'hr'},\n",
       " {'id': 150, 'name': 'qrs', 'designations': 'fin'},\n",
       " {'id': 151, 'name': 'qrs', 'designations': 'mgr'},\n",
       " {'id': 152, 'name': 'wxy', 'designations': 'sse'},\n",
       " {'id': 153, 'name': 'mno', 'designations': 'mgr'},\n",
       " {'id': 154, 'name': 'qrs', 'designations': 'se'},\n",
       " {'id': 155, 'name': 'mno', 'designations': 'mgr'},\n",
       " {'id': 156, 'name': 'wxy', 'designations': 'fin'},\n",
       " {'id': 157, 'name': 'mno', 'designations': 'mgr'},\n",
       " {'id': 158, 'name': 'abc', 'designations': 'sse'},\n",
       " {'id': 159, 'name': 'qrs', 'designations': 'hr'},\n",
       " {'id': 160, 'name': 'wxy', 'designations': 'hr'},\n",
       " {'id': 161, 'name': 'wxy', 'designations': 'admin'},\n",
       " {'id': 162, 'name': 'abc', 'designations': 'hr'},\n",
       " {'id': 163, 'name': 'wxy', 'designations': 'hr'},\n",
       " {'id': 164, 'name': 'mno', 'designations': 'mgr'},\n",
       " {'id': 165, 'name': 'abc', 'designations': 'hr'},\n",
       " {'id': 166, 'name': 'wxy', 'designations': 'sse'},\n",
       " {'id': 167, 'name': 'mno', 'designations': 'sse'},\n",
       " {'id': 168, 'name': 'qrs', 'designations': 'se'},\n",
       " {'id': 169, 'name': 'qrs', 'designations': 'mgr'},\n",
       " {'id': 170, 'name': 'wxy', 'designations': 'mgr'},\n",
       " {'id': 171, 'name': 'wxy', 'designations': 'hr'},\n",
       " {'id': 172, 'name': 'mno', 'designations': 'se'},\n",
       " {'id': 173, 'name': 'wxy', 'designations': 'fin'},\n",
       " {'id': 174, 'name': 'qrs', 'designations': 'se'},\n",
       " {'id': 175, 'name': 'qrs', 'designations': 'admin'},\n",
       " {'id': 176, 'name': 'mno', 'designations': 'hr'},\n",
       " {'id': 177, 'name': 'abc', 'designations': 'mgr'},\n",
       " {'id': 178, 'name': 'qrs', 'designations': 'se'},\n",
       " {'id': 179, 'name': 'mno', 'designations': 'fin'},\n",
       " {'id': 180, 'name': 'wxy', 'designations': 'mgr'},\n",
       " {'id': 181, 'name': 'wxy', 'designations': 'fin'},\n",
       " {'id': 182, 'name': 'qrs', 'designations': 'admin'},\n",
       " {'id': 183, 'name': 'wxy', 'designations': 'se'},\n",
       " {'id': 184, 'name': 'mno', 'designations': 'se'},\n",
       " {'id': 185, 'name': 'mno', 'designations': 'admin'},\n",
       " {'id': 186, 'name': 'qrs', 'designations': 'mgr'},\n",
       " {'id': 187, 'name': 'wxy', 'designations': 'mgr'},\n",
       " {'id': 188, 'name': 'wxy', 'designations': 'hr'},\n",
       " {'id': 189, 'name': 'abc', 'designations': 'admin'},\n",
       " {'id': 190, 'name': 'abc', 'designations': 'se'},\n",
       " {'id': 191, 'name': 'wxy', 'designations': 'sse'},\n",
       " {'id': 192, 'name': 'wxy', 'designations': 'mgr'},\n",
       " {'id': 193, 'name': 'qrs', 'designations': 'mgr'},\n",
       " {'id': 194, 'name': 'abc', 'designations': 'admin'},\n",
       " {'id': 195, 'name': 'wxy', 'designations': 'sse'},\n",
       " {'id': 196, 'name': 'wxy', 'designations': 'se'},\n",
       " {'id': 197, 'name': 'qrs', 'designations': 'fin'},\n",
       " {'id': 198, 'name': 'wxy', 'designations': 'se'},\n",
       " {'id': 199, 'name': 'mno', 'designations': 'hr'},\n",
       " {'id': 200, 'name': 'wxy', 'designations': 'fin'},\n",
       " {'id': 201, 'name': 'qrs', 'designations': 'mgr'},\n",
       " {'id': 202, 'name': 'mno', 'designations': 'admin'},\n",
       " {'id': 203, 'name': 'abc', 'designations': 'admin'},\n",
       " {'id': 204, 'name': 'qrs', 'designations': 'se'},\n",
       " {'id': 205, 'name': 'wxy', 'designations': 'admin'},\n",
       " {'id': 206, 'name': 'qrs', 'designations': 'sse'},\n",
       " {'id': 207, 'name': 'wxy', 'designations': 'fin'},\n",
       " {'id': 208, 'name': 'mno', 'designations': 'sse'},\n",
       " {'id': 209, 'name': 'mno', 'designations': 'hr'},\n",
       " {'id': 210, 'name': 'wxy', 'designations': 'mgr'},\n",
       " {'id': 211, 'name': 'wxy', 'designations': 'se'},\n",
       " {'id': 212, 'name': 'wxy', 'designations': 'admin'},\n",
       " {'id': 213, 'name': 'qrs', 'designations': 'sse'},\n",
       " {'id': 214, 'name': 'qrs', 'designations': 'sse'},\n",
       " {'id': 215, 'name': 'wxy', 'designations': 'fin'},\n",
       " {'id': 216, 'name': 'qrs', 'designations': 'admin'},\n",
       " {'id': 217, 'name': 'mno', 'designations': 'se'},\n",
       " {'id': 218, 'name': 'qrs', 'designations': 'mgr'},\n",
       " {'id': 219, 'name': 'abc', 'designations': 'admin'},\n",
       " {'id': 220, 'name': 'wxy', 'designations': 'fin'},\n",
       " {'id': 221, 'name': 'mno', 'designations': 'mgr'},\n",
       " {'id': 222, 'name': 'wxy', 'designations': 'se'},\n",
       " {'id': 223, 'name': 'wxy', 'designations': 'fin'},\n",
       " {'id': 224, 'name': 'mno', 'designations': 'mgr'},\n",
       " {'id': 225, 'name': 'wxy', 'designations': 'se'},\n",
       " {'id': 226, 'name': 'wxy', 'designations': 'se'},\n",
       " {'id': 227, 'name': 'qrs', 'designations': 'mgr'},\n",
       " {'id': 228, 'name': 'mno', 'designations': 'mgr'},\n",
       " {'id': 229, 'name': 'mno', 'designations': 'hr'},\n",
       " {'id': 230, 'name': 'abc', 'designations': 'hr'},\n",
       " {'id': 231, 'name': 'mno', 'designations': 'se'},\n",
       " {'id': 232, 'name': 'abc', 'designations': 'se'},\n",
       " {'id': 233, 'name': 'mno', 'designations': 'mgr'},\n",
       " {'id': 234, 'name': 'qrs', 'designations': 'sse'},\n",
       " {'id': 235, 'name': 'qrs', 'designations': 'se'},\n",
       " {'id': 236, 'name': 'qrs', 'designations': 'sse'},\n",
       " {'id': 237, 'name': 'abc', 'designations': 'fin'},\n",
       " {'id': 238, 'name': 'wxy', 'designations': 'mgr'},\n",
       " {'id': 239, 'name': 'mno', 'designations': 'se'},\n",
       " {'id': 240, 'name': 'wxy', 'designations': 'fin'},\n",
       " {'id': 241, 'name': 'abc', 'designations': 'admin'},\n",
       " {'id': 242, 'name': 'wxy', 'designations': 'hr'},\n",
       " {'id': 243, 'name': 'qrs', 'designations': 'se'},\n",
       " {'id': 244, 'name': 'wxy', 'designations': 'admin'},\n",
       " {'id': 245, 'name': 'wxy', 'designations': 'se'},\n",
       " {'id': 246, 'name': 'qrs', 'designations': 'sse'},\n",
       " {'id': 247, 'name': 'qrs', 'designations': 'se'},\n",
       " {'id': 248, 'name': 'abc', 'designations': 'hr'},\n",
       " {'id': 249, 'name': 'qrs', 'designations': 'se'},\n",
       " {'id': 250, 'name': 'abc', 'designations': 'admin'},\n",
       " {'id': 251, 'name': 'mno', 'designations': 'admin'},\n",
       " {'id': 252, 'name': 'mno', 'designations': 'se'},\n",
       " {'id': 253, 'name': 'mno', 'designations': 'admin'},\n",
       " {'id': 254, 'name': 'mno', 'designations': 'se'},\n",
       " {'id': 255, 'name': 'qrs', 'designations': 'mgr'},\n",
       " {'id': 256, 'name': 'qrs', 'designations': 'mgr'},\n",
       " {'id': 257, 'name': 'qrs', 'designations': 'fin'},\n",
       " {'id': 258, 'name': 'abc', 'designations': 'sse'},\n",
       " {'id': 259, 'name': 'qrs', 'designations': 'se'},\n",
       " {'id': 260, 'name': 'wxy', 'designations': 'se'},\n",
       " {'id': 261, 'name': 'wxy', 'designations': 'hr'},\n",
       " {'id': 262, 'name': 'abc', 'designations': 'fin'},\n",
       " {'id': 263, 'name': 'mno', 'designations': 'se'},\n",
       " {'id': 264, 'name': 'wxy', 'designations': 'fin'},\n",
       " {'id': 265, 'name': 'mno', 'designations': 'admin'},\n",
       " {'id': 266, 'name': 'wxy', 'designations': 'se'},\n",
       " {'id': 267, 'name': 'abc', 'designations': 'admin'},\n",
       " {'id': 268, 'name': 'abc', 'designations': 'hr'},\n",
       " {'id': 269, 'name': 'qrs', 'designations': 'sse'},\n",
       " {'id': 270, 'name': 'mno', 'designations': 'mgr'},\n",
       " {'id': 271, 'name': 'abc', 'designations': 'se'},\n",
       " {'id': 272, 'name': 'abc', 'designations': 'sse'},\n",
       " {'id': 273, 'name': 'abc', 'designations': 'se'},\n",
       " {'id': 274, 'name': 'wxy', 'designations': 'hr'},\n",
       " {'id': 275, 'name': 'qrs', 'designations': 'fin'},\n",
       " {'id': 276, 'name': 'abc', 'designations': 'hr'},\n",
       " {'id': 277, 'name': 'qrs', 'designations': 'fin'},\n",
       " {'id': 278, 'name': 'mno', 'designations': 'admin'},\n",
       " {'id': 279, 'name': 'mno', 'designations': 'hr'},\n",
       " {'id': 280, 'name': 'mno', 'designations': 'fin'},\n",
       " {'id': 281, 'name': 'qrs', 'designations': 'se'},\n",
       " {'id': 282, 'name': 'wxy', 'designations': 'hr'},\n",
       " {'id': 283, 'name': 'abc', 'designations': 'fin'},\n",
       " {'id': 284, 'name': 'wxy', 'designations': 'hr'},\n",
       " {'id': 285, 'name': 'wxy', 'designations': 'admin'},\n",
       " {'id': 286, 'name': 'qrs', 'designations': 'fin'},\n",
       " {'id': 287, 'name': 'wxy', 'designations': 'admin'},\n",
       " {'id': 288, 'name': 'wxy', 'designations': 'mgr'},\n",
       " {'id': 289, 'name': 'mno', 'designations': 'sse'},\n",
       " {'id': 290, 'name': 'mno', 'designations': 'se'},\n",
       " {'id': 291, 'name': 'abc', 'designations': 'fin'},\n",
       " {'id': 292, 'name': 'mno', 'designations': 'admin'},\n",
       " {'id': 293, 'name': 'qrs', 'designations': 'admin'},\n",
       " {'id': 294, 'name': 'abc', 'designations': 'fin'},\n",
       " {'id': 295, 'name': 'wxy', 'designations': 'mgr'},\n",
       " {'id': 296, 'name': 'wxy', 'designations': 'admin'},\n",
       " {'id': 297, 'name': 'qrs', 'designations': 'sse'},\n",
       " {'id': 298, 'name': 'qrs', 'designations': 'hr'},\n",
       " {'id': 299, 'name': 'abc', 'designations': 'fin'},\n",
       " {'id': 300, 'name': 'qrs', 'designations': 'admin'},\n",
       " {'id': 301, 'name': 'mno', 'designations': 'mgr'},\n",
       " {'id': 302, 'name': 'wxy', 'designations': 'se'},\n",
       " {'id': 303, 'name': 'mno', 'designations': 'mgr'},\n",
       " {'id': 304, 'name': 'mno', 'designations': 'se'},\n",
       " {'id': 305, 'name': 'mno', 'designations': 'se'},\n",
       " {'id': 306, 'name': 'abc', 'designations': 'sse'},\n",
       " {'id': 307, 'name': 'abc', 'designations': 'sse'},\n",
       " {'id': 308, 'name': 'mno', 'designations': 'mgr'},\n",
       " {'id': 309, 'name': 'wxy', 'designations': 'mgr'},\n",
       " {'id': 310, 'name': 'wxy', 'designations': 'mgr'},\n",
       " {'id': 311, 'name': 'abc', 'designations': 'admin'},\n",
       " {'id': 312, 'name': 'mno', 'designations': 'hr'},\n",
       " {'id': 313, 'name': 'wxy', 'designations': 'mgr'},\n",
       " {'id': 314, 'name': 'abc', 'designations': 'se'},\n",
       " {'id': 315, 'name': 'mno', 'designations': 'hr'},\n",
       " {'id': 316, 'name': 'qrs', 'designations': 'mgr'},\n",
       " {'id': 317, 'name': 'mno', 'designations': 'se'},\n",
       " {'id': 318, 'name': 'wxy', 'designations': 'fin'},\n",
       " {'id': 319, 'name': 'qrs', 'designations': 'se'},\n",
       " {'id': 320, 'name': 'abc', 'designations': 'mgr'},\n",
       " {'id': 321, 'name': 'abc', 'designations': 'mgr'},\n",
       " {'id': 322, 'name': 'qrs', 'designations': 'mgr'},\n",
       " {'id': 323, 'name': 'abc', 'designations': 'admin'},\n",
       " {'id': 324, 'name': 'qrs', 'designations': 'hr'},\n",
       " {'id': 325, 'name': 'mno', 'designations': 'hr'},\n",
       " {'id': 326, 'name': 'abc', 'designations': 'hr'},\n",
       " {'id': 327, 'name': 'qrs', 'designations': 'mgr'},\n",
       " {'id': 328, 'name': 'abc', 'designations': 'hr'},\n",
       " {'id': 329, 'name': 'qrs', 'designations': 'sse'},\n",
       " {'id': 330, 'name': 'qrs', 'designations': 'mgr'},\n",
       " {'id': 331, 'name': 'qrs', 'designations': 'se'},\n",
       " {'id': 332, 'name': 'wxy', 'designations': 'se'},\n",
       " {'id': 333, 'name': 'mno', 'designations': 'mgr'},\n",
       " {'id': 334, 'name': 'mno', 'designations': 'admin'},\n",
       " {'id': 335, 'name': 'abc', 'designations': 'admin'},\n",
       " {'id': 336, 'name': 'qrs', 'designations': 'se'},\n",
       " {'id': 337, 'name': 'wxy', 'designations': 'hr'},\n",
       " {'id': 338, 'name': 'wxy', 'designations': 'se'},\n",
       " {'id': 339, 'name': 'qrs', 'designations': 'fin'},\n",
       " {'id': 340, 'name': 'mno', 'designations': 'admin'},\n",
       " {'id': 341, 'name': 'abc', 'designations': 'fin'},\n",
       " {'id': 342, 'name': 'mno', 'designations': 'se'},\n",
       " {'id': 343, 'name': 'wxy', 'designations': 'fin'},\n",
       " {'id': 344, 'name': 'qrs', 'designations': 'se'},\n",
       " {'id': 345, 'name': 'mno', 'designations': 'mgr'},\n",
       " {'id': 346, 'name': 'qrs', 'designations': 'fin'},\n",
       " {'id': 347, 'name': 'wxy', 'designations': 'mgr'},\n",
       " {'id': 348, 'name': 'mno', 'designations': 'mgr'},\n",
       " {'id': 349, 'name': 'abc', 'designations': 'sse'},\n",
       " {'id': 350, 'name': 'qrs', 'designations': 'se'},\n",
       " {'id': 351, 'name': 'abc', 'designations': 'sse'},\n",
       " {'id': 352, 'name': 'qrs', 'designations': 'sse'},\n",
       " {'id': 353, 'name': 'qrs', 'designations': 'se'},\n",
       " {'id': 354, 'name': 'abc', 'designations': 'admin'},\n",
       " {'id': 355, 'name': 'abc', 'designations': 'se'},\n",
       " {'id': 356, 'name': 'qrs', 'designations': 'sse'},\n",
       " {'id': 357, 'name': 'qrs', 'designations': 'hr'},\n",
       " {'id': 358, 'name': 'mno', 'designations': 'se'},\n",
       " {'id': 359, 'name': 'mno', 'designations': 'mgr'},\n",
       " {'id': 360, 'name': 'wxy', 'designations': 'mgr'},\n",
       " {'id': 361, 'name': 'abc', 'designations': 'se'},\n",
       " {'id': 362, 'name': 'wxy', 'designations': 'mgr'},\n",
       " {'id': 363, 'name': 'abc', 'designations': 'admin'},\n",
       " {'id': 364, 'name': 'mno', 'designations': 'mgr'},\n",
       " {'id': 365, 'name': 'qrs', 'designations': 'mgr'},\n",
       " {'id': 366, 'name': 'qrs', 'designations': 'hr'},\n",
       " {'id': 367, 'name': 'qrs', 'designations': 'hr'},\n",
       " {'id': 368, 'name': 'mno', 'designations': 'sse'},\n",
       " {'id': 369, 'name': 'mno', 'designations': 'se'},\n",
       " {'id': 370, 'name': 'mno', 'designations': 'hr'},\n",
       " {'id': 371, 'name': 'wxy', 'designations': 'sse'},\n",
       " {'id': 372, 'name': 'qrs', 'designations': 'fin'},\n",
       " {'id': 373, 'name': 'wxy', 'designations': 'mgr'},\n",
       " {'id': 374, 'name': 'wxy', 'designations': 'hr'},\n",
       " {'id': 375, 'name': 'mno', 'designations': 'hr'},\n",
       " {'id': 376, 'name': 'wxy', 'designations': 'admin'},\n",
       " {'id': 377, 'name': 'wxy', 'designations': 'admin'},\n",
       " {'id': 378, 'name': 'qrs', 'designations': 'mgr'},\n",
       " {'id': 379, 'name': 'mno', 'designations': 'se'},\n",
       " {'id': 380, 'name': 'wxy', 'designations': 'admin'},\n",
       " {'id': 381, 'name': 'mno', 'designations': 'fin'},\n",
       " {'id': 382, 'name': 'wxy', 'designations': 'hr'},\n",
       " {'id': 383, 'name': 'abc', 'designations': 'admin'},\n",
       " {'id': 384, 'name': 'qrs', 'designations': 'mgr'},\n",
       " {'id': 385, 'name': 'mno', 'designations': 'sse'},\n",
       " {'id': 386, 'name': 'qrs', 'designations': 'se'},\n",
       " {'id': 387, 'name': 'qrs', 'designations': 'fin'},\n",
       " {'id': 388, 'name': 'qrs', 'designations': 'mgr'},\n",
       " {'id': 389, 'name': 'wxy', 'designations': 'mgr'},\n",
       " {'id': 390, 'name': 'wxy', 'designations': 'fin'},\n",
       " {'id': 391, 'name': 'abc', 'designations': 'fin'},\n",
       " {'id': 392, 'name': 'wxy', 'designations': 'fin'},\n",
       " {'id': 393, 'name': 'wxy', 'designations': 'mgr'},\n",
       " {'id': 394, 'name': 'abc', 'designations': 'se'},\n",
       " {'id': 395, 'name': 'mno', 'designations': 'fin'},\n",
       " {'id': 396, 'name': 'wxy', 'designations': 'sse'},\n",
       " {'id': 397, 'name': 'qrs', 'designations': 'admin'},\n",
       " {'id': 398, 'name': 'abc', 'designations': 'hr'},\n",
       " {'id': 399, 'name': 'abc', 'designations': 'mgr'},\n",
       " {'id': 400, 'name': 'qrs', 'designations': 'hr'},\n",
       " {'id': 401, 'name': 'wxy', 'designations': 'fin'},\n",
       " {'id': 402, 'name': 'qrs', 'designations': 'se'},\n",
       " {'id': 403, 'name': 'abc', 'designations': 'sse'},\n",
       " {'id': 404, 'name': 'abc', 'designations': 'sse'},\n",
       " {'id': 405, 'name': 'wxy', 'designations': 'admin'},\n",
       " {'id': 406, 'name': 'mno', 'designations': 'admin'},\n",
       " {'id': 407, 'name': 'wxy', 'designations': 'hr'},\n",
       " {'id': 408, 'name': 'wxy', 'designations': 'mgr'},\n",
       " {'id': 409, 'name': 'wxy', 'designations': 'sse'},\n",
       " {'id': 410, 'name': 'abc', 'designations': 'admin'},\n",
       " {'id': 411, 'name': 'wxy', 'designations': 'fin'},\n",
       " {'id': 412, 'name': 'qrs', 'designations': 'admin'},\n",
       " {'id': 413, 'name': 'mno', 'designations': 'sse'},\n",
       " {'id': 414, 'name': 'wxy', 'designations': 'mgr'},\n",
       " {'id': 415, 'name': 'mno', 'designations': 'mgr'},\n",
       " {'id': 416, 'name': 'abc', 'designations': 'se'},\n",
       " {'id': 417, 'name': 'abc', 'designations': 'admin'},\n",
       " {'id': 418, 'name': 'qrs', 'designations': 'mgr'},\n",
       " {'id': 419, 'name': 'abc', 'designations': 'se'},\n",
       " {'id': 420, 'name': 'abc', 'designations': 'mgr'},\n",
       " {'id': 421, 'name': 'mno', 'designations': 'fin'},\n",
       " {'id': 422, 'name': 'wxy', 'designations': 'sse'},\n",
       " {'id': 423, 'name': 'qrs', 'designations': 'se'},\n",
       " {'id': 424, 'name': 'wxy', 'designations': 'admin'},\n",
       " {'id': 425, 'name': 'qrs', 'designations': 'admin'},\n",
       " {'id': 426, 'name': 'qrs', 'designations': 'se'},\n",
       " {'id': 427, 'name': 'mno', 'designations': 'fin'},\n",
       " {'id': 428, 'name': 'abc', 'designations': 'fin'},\n",
       " {'id': 429, 'name': 'qrs', 'designations': 'mgr'},\n",
       " {'id': 430, 'name': 'abc', 'designations': 'se'},\n",
       " {'id': 431, 'name': 'abc', 'designations': 'sse'},\n",
       " {'id': 432, 'name': 'mno', 'designations': 'sse'},\n",
       " {'id': 433, 'name': 'qrs', 'designations': 'se'},\n",
       " {'id': 434, 'name': 'wxy', 'designations': 'sse'},\n",
       " {'id': 435, 'name': 'abc', 'designations': 'admin'},\n",
       " {'id': 436, 'name': 'abc', 'designations': 'mgr'},\n",
       " {'id': 437, 'name': 'wxy', 'designations': 'hr'},\n",
       " {'id': 438, 'name': 'wxy', 'designations': 'hr'},\n",
       " {'id': 439, 'name': 'mno', 'designations': 'fin'},\n",
       " {'id': 440, 'name': 'wxy', 'designations': 'hr'},\n",
       " {'id': 441, 'name': 'mno', 'designations': 'admin'},\n",
       " {'id': 442, 'name': 'abc', 'designations': 'se'},\n",
       " {'id': 443, 'name': 'abc', 'designations': 'hr'},\n",
       " {'id': 444, 'name': 'wxy', 'designations': 'fin'},\n",
       " {'id': 445, 'name': 'qrs', 'designations': 'se'},\n",
       " {'id': 446, 'name': 'abc', 'designations': 'se'},\n",
       " {'id': 447, 'name': 'qrs', 'designations': 'se'},\n",
       " {'id': 448, 'name': 'qrs', 'designations': 'mgr'},\n",
       " {'id': 449, 'name': 'qrs', 'designations': 'hr'},\n",
       " {'id': 450, 'name': 'abc', 'designations': 'admin'},\n",
       " {'id': 451, 'name': 'wxy', 'designations': 'mgr'},\n",
       " {'id': 452, 'name': 'qrs', 'designations': 'admin'},\n",
       " {'id': 453, 'name': 'mno', 'designations': 'se'},\n",
       " {'id': 454, 'name': 'abc', 'designations': 'hr'},\n",
       " {'id': 455, 'name': 'abc', 'designations': 'se'},\n",
       " {'id': 456, 'name': 'wxy', 'designations': 'fin'},\n",
       " {'id': 457, 'name': 'mno', 'designations': 'se'},\n",
       " {'id': 458, 'name': 'qrs', 'designations': 'sse'},\n",
       " {'id': 459, 'name': 'abc', 'designations': 'mgr'},\n",
       " {'id': 460, 'name': 'wxy', 'designations': 'hr'},\n",
       " {'id': 461, 'name': 'abc', 'designations': 'admin'},\n",
       " {'id': 462, 'name': 'abc', 'designations': 'sse'},\n",
       " {'id': 463, 'name': 'mno', 'designations': 'sse'},\n",
       " {'id': 464, 'name': 'qrs', 'designations': 'fin'},\n",
       " {'id': 465, 'name': 'abc', 'designations': 'se'},\n",
       " {'id': 466, 'name': 'wxy', 'designations': 'fin'},\n",
       " {'id': 467, 'name': 'abc', 'designations': 'admin'},\n",
       " {'id': 468, 'name': 'abc', 'designations': 'mgr'},\n",
       " {'id': 469, 'name': 'qrs', 'designations': 'sse'},\n",
       " {'id': 470, 'name': 'wxy', 'designations': 'mgr'},\n",
       " {'id': 471, 'name': 'mno', 'designations': 'hr'},\n",
       " {'id': 472, 'name': 'abc', 'designations': 'mgr'},\n",
       " {'id': 473, 'name': 'qrs', 'designations': 'hr'},\n",
       " {'id': 474, 'name': 'qrs', 'designations': 'fin'},\n",
       " {'id': 475, 'name': 'mno', 'designations': 'mgr'},\n",
       " {'id': 476, 'name': 'wxy', 'designations': 'hr'},\n",
       " {'id': 477, 'name': 'wxy', 'designations': 'sse'},\n",
       " {'id': 478, 'name': 'abc', 'designations': 'fin'},\n",
       " {'id': 479, 'name': 'wxy', 'designations': 'sse'},\n",
       " {'id': 480, 'name': 'abc', 'designations': 'fin'},\n",
       " {'id': 481, 'name': 'abc', 'designations': 'mgr'},\n",
       " {'id': 482, 'name': 'mno', 'designations': 'fin'},\n",
       " {'id': 483, 'name': 'mno', 'designations': 'mgr'},\n",
       " {'id': 484, 'name': 'mno', 'designations': 'fin'},\n",
       " {'id': 485, 'name': 'mno', 'designations': 'mgr'},\n",
       " {'id': 486, 'name': 'mno', 'designations': 'mgr'},\n",
       " {'id': 487, 'name': 'qrs', 'designations': 'hr'},\n",
       " {'id': 488, 'name': 'abc', 'designations': 'hr'},\n",
       " {'id': 489, 'name': 'abc', 'designations': 'admin'},\n",
       " {'id': 490, 'name': 'qrs', 'designations': 'fin'},\n",
       " {'id': 491, 'name': 'mno', 'designations': 'admin'},\n",
       " {'id': 492, 'name': 'abc', 'designations': 'admin'},\n",
       " {'id': 493, 'name': 'abc', 'designations': 'fin'},\n",
       " {'id': 494, 'name': 'wxy', 'designations': 'admin'},\n",
       " {'id': 495, 'name': 'wxy', 'designations': 'sse'},\n",
       " {'id': 496, 'name': 'wxy', 'designations': 'fin'},\n",
       " {'id': 497, 'name': 'wxy', 'designations': 'mgr'},\n",
       " {'id': 498, 'name': 'wxy', 'designations': 'mgr'},\n",
       " {'id': 499, 'name': 'wxy', 'designations': 'hr'},\n",
       " {'id': 500, 'name': 'abc', 'designations': 'admin'},\n",
       " {'id': 501, 'name': 'wxy', 'designations': 'mgr'},\n",
       " {'id': 502, 'name': 'wxy', 'designations': 'fin'},\n",
       " {'id': 503, 'name': 'abc', 'designations': 'sse'},\n",
       " {'id': 504, 'name': 'abc', 'designations': 'admin'},\n",
       " {'id': 505, 'name': 'mno', 'designations': 'mgr'},\n",
       " {'id': 506, 'name': 'wxy', 'designations': 'se'},\n",
       " {'id': 507, 'name': 'abc', 'designations': 'sse'},\n",
       " {'id': 508, 'name': 'qrs', 'designations': 'admin'},\n",
       " {'id': 509, 'name': 'wxy', 'designations': 'admin'},\n",
       " {'id': 510, 'name': 'abc', 'designations': 'sse'},\n",
       " {'id': 511, 'name': 'wxy', 'designations': 'admin'},\n",
       " {'id': 512, 'name': 'mno', 'designations': 'se'},\n",
       " {'id': 513, 'name': 'wxy', 'designations': 'admin'},\n",
       " {'id': 514, 'name': 'mno', 'designations': 'se'},\n",
       " {'id': 515, 'name': 'wxy', 'designations': 'fin'},\n",
       " {'id': 516, 'name': 'abc', 'designations': 'admin'},\n",
       " {'id': 517, 'name': 'wxy', 'designations': 'se'},\n",
       " {'id': 518, 'name': 'wxy', 'designations': 'fin'},\n",
       " {'id': 519, 'name': 'wxy', 'designations': 'mgr'},\n",
       " {'id': 520, 'name': 'wxy', 'designations': 'admin'},\n",
       " {'id': 521, 'name': 'mno', 'designations': 'admin'},\n",
       " {'id': 522, 'name': 'abc', 'designations': 'sse'},\n",
       " {'id': 523, 'name': 'qrs', 'designations': 'admin'},\n",
       " {'id': 524, 'name': 'wxy', 'designations': 'admin'},\n",
       " {'id': 525, 'name': 'abc', 'designations': 'fin'},\n",
       " {'id': 526, 'name': 'wxy', 'designations': 'admin'},\n",
       " {'id': 527, 'name': 'qrs', 'designations': 'se'},\n",
       " {'id': 528, 'name': 'abc', 'designations': 'sse'},\n",
       " {'id': 529, 'name': 'mno', 'designations': 'hr'},\n",
       " {'id': 530, 'name': 'mno', 'designations': 'admin'},\n",
       " {'id': 531, 'name': 'mno', 'designations': 'mgr'},\n",
       " {'id': 532, 'name': 'abc', 'designations': 'mgr'},\n",
       " {'id': 533, 'name': 'abc', 'designations': 'mgr'},\n",
       " {'id': 534, 'name': 'mno', 'designations': 'fin'},\n",
       " {'id': 535, 'name': 'wxy', 'designations': 'sse'},\n",
       " {'id': 536, 'name': 'mno', 'designations': 'hr'},\n",
       " {'id': 537, 'name': 'abc', 'designations': 'sse'},\n",
       " {'id': 538, 'name': 'mno', 'designations': 'se'},\n",
       " {'id': 539, 'name': 'qrs', 'designations': 'hr'},\n",
       " {'id': 540, 'name': 'wxy', 'designations': 'fin'},\n",
       " {'id': 541, 'name': 'mno', 'designations': 'se'},\n",
       " {'id': 542, 'name': 'qrs', 'designations': 'admin'},\n",
       " {'id': 543, 'name': 'abc', 'designations': 'fin'},\n",
       " {'id': 544, 'name': 'wxy', 'designations': 'admin'},\n",
       " {'id': 545, 'name': 'qrs', 'designations': 'mgr'},\n",
       " {'id': 546, 'name': 'abc', 'designations': 'se'},\n",
       " {'id': 547, 'name': 'qrs', 'designations': 'admin'},\n",
       " {'id': 548, 'name': 'mno', 'designations': 'mgr'},\n",
       " {'id': 549, 'name': 'abc', 'designations': 'se'},\n",
       " {'id': 550, 'name': 'qrs', 'designations': 'fin'},\n",
       " {'id': 551, 'name': 'qrs', 'designations': 'admin'},\n",
       " {'id': 552, 'name': 'mno', 'designations': 'se'},\n",
       " {'id': 553, 'name': 'wxy', 'designations': 'fin'},\n",
       " {'id': 554, 'name': 'mno', 'designations': 'fin'},\n",
       " {'id': 555, 'name': 'wxy', 'designations': 'hr'},\n",
       " {'id': 556, 'name': 'wxy', 'designations': 'fin'},\n",
       " {'id': 557, 'name': 'mno', 'designations': 'mgr'},\n",
       " {'id': 558, 'name': 'wxy', 'designations': 'hr'},\n",
       " {'id': 559, 'name': 'qrs', 'designations': 'mgr'},\n",
       " {'id': 560, 'name': 'qrs', 'designations': 'mgr'},\n",
       " {'id': 561, 'name': 'abc', 'designations': 'sse'},\n",
       " {'id': 562, 'name': 'abc', 'designations': 'mgr'},\n",
       " {'id': 563, 'name': 'wxy', 'designations': 'hr'},\n",
       " {'id': 564, 'name': 'abc', 'designations': 'admin'},\n",
       " {'id': 565, 'name': 'qrs', 'designations': 'sse'},\n",
       " {'id': 566, 'name': 'wxy', 'designations': 'hr'},\n",
       " {'id': 567, 'name': 'abc', 'designations': 'sse'},\n",
       " {'id': 568, 'name': 'mno', 'designations': 'sse'},\n",
       " {'id': 569, 'name': 'abc', 'designations': 'admin'},\n",
       " {'id': 570, 'name': 'qrs', 'designations': 'mgr'},\n",
       " {'id': 571, 'name': 'abc', 'designations': 'se'},\n",
       " {'id': 572, 'name': 'qrs', 'designations': 'fin'},\n",
       " {'id': 573, 'name': 'mno', 'designations': 'admin'},\n",
       " {'id': 574, 'name': 'qrs', 'designations': 'hr'},\n",
       " {'id': 575, 'name': 'qrs', 'designations': 'mgr'},\n",
       " {'id': 576, 'name': 'wxy', 'designations': 'hr'},\n",
       " {'id': 577, 'name': 'wxy', 'designations': 'admin'},\n",
       " {'id': 578, 'name': 'mno', 'designations': 'mgr'},\n",
       " {'id': 579, 'name': 'wxy', 'designations': 'fin'},\n",
       " {'id': 580, 'name': 'mno', 'designations': 'se'},\n",
       " {'id': 581, 'name': 'abc', 'designations': 'fin'},\n",
       " {'id': 582, 'name': 'mno', 'designations': 'se'},\n",
       " {'id': 583, 'name': 'mno', 'designations': 'se'},\n",
       " {'id': 584, 'name': 'abc', 'designations': 'se'},\n",
       " {'id': 585, 'name': 'qrs', 'designations': 'hr'},\n",
       " {'id': 586, 'name': 'mno', 'designations': 'fin'},\n",
       " {'id': 587, 'name': 'abc', 'designations': 'admin'},\n",
       " {'id': 588, 'name': 'qrs', 'designations': 'fin'},\n",
       " {'id': 589, 'name': 'abc', 'designations': 'admin'},\n",
       " {'id': 590, 'name': 'mno', 'designations': 'hr'},\n",
       " {'id': 591, 'name': 'wxy', 'designations': 'se'},\n",
       " {'id': 592, 'name': 'wxy', 'designations': 'fin'},\n",
       " {'id': 593, 'name': 'mno', 'designations': 'fin'},\n",
       " {'id': 594, 'name': 'wxy', 'designations': 'hr'},\n",
       " {'id': 595, 'name': 'mno', 'designations': 'fin'},\n",
       " {'id': 596, 'name': 'abc', 'designations': 'sse'},\n",
       " {'id': 597, 'name': 'abc', 'designations': 'hr'},\n",
       " {'id': 598, 'name': 'abc', 'designations': 'hr'},\n",
       " {'id': 599, 'name': 'qrs', 'designations': 'mgr'},\n",
       " {'id': 600, 'name': 'qrs', 'designations': 'fin'},\n",
       " {'id': 601, 'name': 'qrs', 'designations': 'sse'},\n",
       " {'id': 602, 'name': 'qrs', 'designations': 'fin'},\n",
       " {'id': 603, 'name': 'mno', 'designations': 'hr'},\n",
       " {'id': 604, 'name': 'abc', 'designations': 'mgr'},\n",
       " {'id': 605, 'name': 'mno', 'designations': 'fin'},\n",
       " {'id': 606, 'name': 'wxy', 'designations': 'mgr'},\n",
       " {'id': 607, 'name': 'mno', 'designations': 'mgr'},\n",
       " {'id': 608, 'name': 'mno', 'designations': 'sse'},\n",
       " {'id': 609, 'name': 'wxy', 'designations': 'sse'},\n",
       " {'id': 610, 'name': 'mno', 'designations': 'se'},\n",
       " {'id': 611, 'name': 'qrs', 'designations': 'hr'},\n",
       " {'id': 612, 'name': 'abc', 'designations': 'fin'},\n",
       " {'id': 613, 'name': 'wxy', 'designations': 'mgr'},\n",
       " {'id': 614, 'name': 'wxy', 'designations': 'mgr'},\n",
       " {'id': 615, 'name': 'wxy', 'designations': 'mgr'},\n",
       " {'id': 616, 'name': 'abc', 'designations': 'hr'},\n",
       " {'id': 617, 'name': 'mno', 'designations': 'sse'},\n",
       " {'id': 618, 'name': 'mno', 'designations': 'hr'},\n",
       " {'id': 619, 'name': 'mno', 'designations': 'sse'},\n",
       " {'id': 620, 'name': 'mno', 'designations': 'sse'},\n",
       " {'id': 621, 'name': 'wxy', 'designations': 'se'},\n",
       " {'id': 622, 'name': 'wxy', 'designations': 'admin'},\n",
       " {'id': 623, 'name': 'abc', 'designations': 'mgr'},\n",
       " {'id': 624, 'name': 'wxy', 'designations': 'se'},\n",
       " {'id': 625, 'name': 'mno', 'designations': 'mgr'},\n",
       " {'id': 626, 'name': 'abc', 'designations': 'fin'},\n",
       " {'id': 627, 'name': 'qrs', 'designations': 'admin'},\n",
       " {'id': 628, 'name': 'mno', 'designations': 'mgr'},\n",
       " {'id': 629, 'name': 'abc', 'designations': 'mgr'},\n",
       " {'id': 630, 'name': 'abc', 'designations': 'se'},\n",
       " {'id': 631, 'name': 'mno', 'designations': 'sse'},\n",
       " {'id': 632, 'name': 'wxy', 'designations': 'sse'},\n",
       " {'id': 633, 'name': 'qrs', 'designations': 'sse'},\n",
       " {'id': 634, 'name': 'qrs', 'designations': 'sse'},\n",
       " {'id': 635, 'name': 'qrs', 'designations': 'admin'},\n",
       " {'id': 636, 'name': 'wxy', 'designations': 'se'},\n",
       " {'id': 637, 'name': 'qrs', 'designations': 'sse'},\n",
       " {'id': 638, 'name': 'abc', 'designations': 'se'},\n",
       " {'id': 639, 'name': 'abc', 'designations': 'se'},\n",
       " {'id': 640, 'name': 'qrs', 'designations': 'mgr'},\n",
       " {'id': 641, 'name': 'mno', 'designations': 'fin'},\n",
       " {'id': 642, 'name': 'abc', 'designations': 'hr'},\n",
       " {'id': 643, 'name': 'wxy', 'designations': 'fin'},\n",
       " {'id': 644, 'name': 'wxy', 'designations': 'sse'},\n",
       " {'id': 645, 'name': 'abc', 'designations': 'fin'},\n",
       " {'id': 646, 'name': 'qrs', 'designations': 'fin'},\n",
       " {'id': 647, 'name': 'wxy', 'designations': 'hr'},\n",
       " {'id': 648, 'name': 'qrs', 'designations': 'hr'},\n",
       " {'id': 649, 'name': 'qrs', 'designations': 'sse'},\n",
       " {'id': 650, 'name': 'mno', 'designations': 'hr'},\n",
       " {'id': 651, 'name': 'mno', 'designations': 'admin'},\n",
       " {'id': 652, 'name': 'mno', 'designations': 'fin'},\n",
       " {'id': 653, 'name': 'abc', 'designations': 'fin'},\n",
       " {'id': 654, 'name': 'qrs', 'designations': 'fin'},\n",
       " {'id': 655, 'name': 'wxy', 'designations': 'admin'},\n",
       " {'id': 656, 'name': 'wxy', 'designations': 'admin'},\n",
       " {'id': 657, 'name': 'mno', 'designations': 'se'},\n",
       " {'id': 658, 'name': 'qrs', 'designations': 'se'},\n",
       " {'id': 659, 'name': 'mno', 'designations': 'se'},\n",
       " {'id': 660, 'name': 'abc', 'designations': 'mgr'},\n",
       " {'id': 661, 'name': 'abc', 'designations': 'fin'},\n",
       " {'id': 662, 'name': 'abc', 'designations': 'hr'},\n",
       " {'id': 663, 'name': 'abc', 'designations': 'fin'},\n",
       " {'id': 664, 'name': 'abc', 'designations': 'se'},\n",
       " {'id': 665, 'name': 'wxy', 'designations': 'sse'},\n",
       " {'id': 666, 'name': 'mno', 'designations': 'se'},\n",
       " {'id': 667, 'name': 'mno', 'designations': 'sse'},\n",
       " {'id': 668, 'name': 'mno', 'designations': 'fin'},\n",
       " {'id': 669, 'name': 'abc', 'designations': 'admin'},\n",
       " {'id': 670, 'name': 'wxy', 'designations': 'se'},\n",
       " {'id': 671, 'name': 'wxy', 'designations': 'mgr'},\n",
       " {'id': 672, 'name': 'wxy', 'designations': 'sse'},\n",
       " {'id': 673, 'name': 'mno', 'designations': 'admin'},\n",
       " {'id': 674, 'name': 'abc', 'designations': 'mgr'},\n",
       " {'id': 675, 'name': 'wxy', 'designations': 'mgr'},\n",
       " {'id': 676, 'name': 'mno', 'designations': 'hr'},\n",
       " {'id': 677, 'name': 'wxy', 'designations': 'mgr'},\n",
       " {'id': 678, 'name': 'qrs', 'designations': 'sse'},\n",
       " {'id': 679, 'name': 'qrs', 'designations': 'admin'},\n",
       " {'id': 680, 'name': 'qrs', 'designations': 'admin'},\n",
       " {'id': 681, 'name': 'abc', 'designations': 'hr'},\n",
       " {'id': 682, 'name': 'qrs', 'designations': 'mgr'},\n",
       " {'id': 683, 'name': 'abc', 'designations': 'fin'},\n",
       " {'id': 684, 'name': 'wxy', 'designations': 'se'},\n",
       " {'id': 685, 'name': 'qrs', 'designations': 'sse'},\n",
       " {'id': 686, 'name': 'qrs', 'designations': 'sse'},\n",
       " {'id': 687, 'name': 'wxy', 'designations': 'mgr'},\n",
       " {'id': 688, 'name': 'wxy', 'designations': 'hr'},\n",
       " {'id': 689, 'name': 'qrs', 'designations': 'fin'},\n",
       " {'id': 690, 'name': 'qrs', 'designations': 'hr'},\n",
       " {'id': 691, 'name': 'wxy', 'designations': 'admin'},\n",
       " {'id': 692, 'name': 'mno', 'designations': 'hr'},\n",
       " {'id': 693, 'name': 'abc', 'designations': 'mgr'},\n",
       " {'id': 694, 'name': 'abc', 'designations': 'hr'},\n",
       " {'id': 695, 'name': 'mno', 'designations': 'mgr'},\n",
       " {'id': 696, 'name': 'wxy', 'designations': 'hr'},\n",
       " {'id': 697, 'name': 'abc', 'designations': 'sse'},\n",
       " {'id': 698, 'name': 'mno', 'designations': 'admin'},\n",
       " {'id': 699, 'name': 'qrs', 'designations': 'fin'},\n",
       " {'id': 700, 'name': 'abc', 'designations': 'mgr'},\n",
       " {'id': 701, 'name': 'mno', 'designations': 'sse'},\n",
       " {'id': 702, 'name': 'abc', 'designations': 'sse'},\n",
       " {'id': 703, 'name': 'qrs', 'designations': 'mgr'},\n",
       " {'id': 704, 'name': 'mno', 'designations': 'fin'},\n",
       " {'id': 705, 'name': 'wxy', 'designations': 'hr'},\n",
       " {'id': 706, 'name': 'abc', 'designations': 'mgr'},\n",
       " {'id': 707, 'name': 'qrs', 'designations': 'hr'},\n",
       " {'id': 708, 'name': 'qrs', 'designations': 'fin'},\n",
       " {'id': 709, 'name': 'abc', 'designations': 'sse'},\n",
       " {'id': 710, 'name': 'mno', 'designations': 'hr'},\n",
       " {'id': 711, 'name': 'wxy', 'designations': 'sse'},\n",
       " {'id': 712, 'name': 'qrs', 'designations': 'admin'},\n",
       " {'id': 713, 'name': 'wxy', 'designations': 'sse'},\n",
       " {'id': 714, 'name': 'qrs', 'designations': 'sse'},\n",
       " {'id': 715, 'name': 'abc', 'designations': 'mgr'},\n",
       " {'id': 716, 'name': 'wxy', 'designations': 'mgr'},\n",
       " {'id': 717, 'name': 'abc', 'designations': 'se'},\n",
       " {'id': 718, 'name': 'mno', 'designations': 'sse'},\n",
       " {'id': 719, 'name': 'qrs', 'designations': 'admin'},\n",
       " {'id': 720, 'name': 'wxy', 'designations': 'sse'},\n",
       " {'id': 721, 'name': 'abc', 'designations': 'sse'},\n",
       " {'id': 722, 'name': 'abc', 'designations': 'mgr'},\n",
       " {'id': 723, 'name': 'wxy', 'designations': 'fin'},\n",
       " {'id': 724, 'name': 'qrs', 'designations': 'admin'},\n",
       " {'id': 725, 'name': 'wxy', 'designations': 'sse'},\n",
       " {'id': 726, 'name': 'abc', 'designations': 'mgr'},\n",
       " {'id': 727, 'name': 'mno', 'designations': 'sse'},\n",
       " {'id': 728, 'name': 'qrs', 'designations': 'admin'},\n",
       " {'id': 729, 'name': 'abc', 'designations': 'hr'},\n",
       " {'id': 730, 'name': 'abc', 'designations': 'admin'},\n",
       " {'id': 731, 'name': 'qrs', 'designations': 'hr'},\n",
       " {'id': 732, 'name': 'mno', 'designations': 'mgr'},\n",
       " {'id': 733, 'name': 'abc', 'designations': 'se'},\n",
       " {'id': 734, 'name': 'qrs', 'designations': 'mgr'},\n",
       " {'id': 735, 'name': 'wxy', 'designations': 'se'},\n",
       " {'id': 736, 'name': 'abc', 'designations': 'mgr'},\n",
       " {'id': 737, 'name': 'qrs', 'designations': 'mgr'},\n",
       " {'id': 738, 'name': 'wxy', 'designations': 'mgr'},\n",
       " {'id': 739, 'name': 'abc', 'designations': 'mgr'},\n",
       " {'id': 740, 'name': 'abc', 'designations': 'se'},\n",
       " {'id': 741, 'name': 'abc', 'designations': 'hr'},\n",
       " {'id': 742, 'name': 'abc', 'designations': 'sse'},\n",
       " {'id': 743, 'name': 'abc', 'designations': 'fin'},\n",
       " {'id': 744, 'name': 'abc', 'designations': 'hr'},\n",
       " {'id': 745, 'name': 'abc', 'designations': 'sse'},\n",
       " {'id': 746, 'name': 'abc', 'designations': 'admin'},\n",
       " {'id': 747, 'name': 'abc', 'designations': 'sse'},\n",
       " {'id': 748, 'name': 'qrs', 'designations': 'hr'},\n",
       " {'id': 749, 'name': 'mno', 'designations': 'sse'},\n",
       " {'id': 750, 'name': 'mno', 'designations': 'sse'},\n",
       " {'id': 751, 'name': 'qrs', 'designations': 'admin'},\n",
       " {'id': 752, 'name': 'mno', 'designations': 'se'},\n",
       " {'id': 753, 'name': 'qrs', 'designations': 'admin'},\n",
       " {'id': 754, 'name': 'abc', 'designations': 'fin'},\n",
       " {'id': 755, 'name': 'qrs', 'designations': 'admin'},\n",
       " {'id': 756, 'name': 'wxy', 'designations': 'se'},\n",
       " {'id': 757, 'name': 'abc', 'designations': 'sse'},\n",
       " {'id': 758, 'name': 'wxy', 'designations': 'se'},\n",
       " {'id': 759, 'name': 'mno', 'designations': 'se'},\n",
       " {'id': 760, 'name': 'abc', 'designations': 'hr'},\n",
       " {'id': 761, 'name': 'mno', 'designations': 'sse'},\n",
       " {'id': 762, 'name': 'mno', 'designations': 'mgr'},\n",
       " {'id': 763, 'name': 'mno', 'designations': 'mgr'},\n",
       " {'id': 764, 'name': 'mno', 'designations': 'se'},\n",
       " {'id': 765, 'name': 'abc', 'designations': 'sse'},\n",
       " {'id': 766, 'name': 'mno', 'designations': 'mgr'},\n",
       " {'id': 767, 'name': 'mno', 'designations': 'admin'},\n",
       " {'id': 768, 'name': 'wxy', 'designations': 'admin'},\n",
       " {'id': 769, 'name': 'wxy', 'designations': 'fin'},\n",
       " {'id': 770, 'name': 'qrs', 'designations': 'se'},\n",
       " {'id': 771, 'name': 'abc', 'designations': 'sse'},\n",
       " {'id': 772, 'name': 'wxy', 'designations': 'mgr'},\n",
       " {'id': 773, 'name': 'abc', 'designations': 'sse'},\n",
       " {'id': 774, 'name': 'qrs', 'designations': 'se'},\n",
       " {'id': 775, 'name': 'qrs', 'designations': 'hr'},\n",
       " {'id': 776, 'name': 'mno', 'designations': 'admin'},\n",
       " {'id': 777, 'name': 'abc', 'designations': 'admin'},\n",
       " {'id': 778, 'name': 'qrs', 'designations': 'sse'},\n",
       " {'id': 779, 'name': 'abc', 'designations': 'sse'},\n",
       " {'id': 780, 'name': 'qrs', 'designations': 'admin'},\n",
       " {'id': 781, 'name': 'qrs', 'designations': 'admin'},\n",
       " {'id': 782, 'name': 'qrs', 'designations': 'mgr'},\n",
       " {'id': 783, 'name': 'mno', 'designations': 'fin'},\n",
       " {'id': 784, 'name': 'mno', 'designations': 'fin'},\n",
       " {'id': 785, 'name': 'qrs', 'designations': 'sse'},\n",
       " {'id': 786, 'name': 'mno', 'designations': 'sse'},\n",
       " {'id': 787, 'name': 'wxy', 'designations': 'hr'},\n",
       " {'id': 788, 'name': 'qrs', 'designations': 'mgr'},\n",
       " {'id': 789, 'name': 'qrs', 'designations': 'sse'},\n",
       " {'id': 790, 'name': 'abc', 'designations': 'mgr'},\n",
       " {'id': 791, 'name': 'mno', 'designations': 'fin'},\n",
       " {'id': 792, 'name': 'mno', 'designations': 'sse'},\n",
       " {'id': 793, 'name': 'qrs', 'designations': 'admin'},\n",
       " {'id': 794, 'name': 'abc', 'designations': 'hr'},\n",
       " {'id': 795, 'name': 'abc', 'designations': 'mgr'},\n",
       " {'id': 796, 'name': 'wxy', 'designations': 'se'},\n",
       " {'id': 797, 'name': 'qrs', 'designations': 'se'},\n",
       " {'id': 798, 'name': 'qrs', 'designations': 'mgr'},\n",
       " {'id': 799, 'name': 'abc', 'designations': 'fin'},\n",
       " {'id': 800, 'name': 'qrs', 'designations': 'fin'},\n",
       " {'id': 801, 'name': 'mno', 'designations': 'mgr'},\n",
       " {'id': 802, 'name': 'abc', 'designations': 'admin'},\n",
       " {'id': 803, 'name': 'wxy', 'designations': 'fin'},\n",
       " {'id': 804, 'name': 'qrs', 'designations': 'se'},\n",
       " {'id': 805, 'name': 'wxy', 'designations': 'sse'},\n",
       " {'id': 806, 'name': 'qrs', 'designations': 'admin'},\n",
       " {'id': 807, 'name': 'mno', 'designations': 'admin'},\n",
       " {'id': 808, 'name': 'abc', 'designations': 'fin'},\n",
       " {'id': 809, 'name': 'mno', 'designations': 'se'},\n",
       " {'id': 810, 'name': 'abc', 'designations': 'admin'},\n",
       " {'id': 811, 'name': 'qrs', 'designations': 'hr'},\n",
       " {'id': 812, 'name': 'mno', 'designations': 'mgr'},\n",
       " {'id': 813, 'name': 'mno', 'designations': 'hr'},\n",
       " {'id': 814, 'name': 'abc', 'designations': 'mgr'},\n",
       " {'id': 815, 'name': 'wxy', 'designations': 'sse'},\n",
       " {'id': 816, 'name': 'abc', 'designations': 'admin'},\n",
       " {'id': 817, 'name': 'abc', 'designations': 'sse'},\n",
       " {'id': 818, 'name': 'mno', 'designations': 'admin'},\n",
       " {'id': 819, 'name': 'qrs', 'designations': 'fin'},\n",
       " {'id': 820, 'name': 'wxy', 'designations': 'hr'},\n",
       " {'id': 821, 'name': 'qrs', 'designations': 'fin'},\n",
       " {'id': 822, 'name': 'abc', 'designations': 'sse'},\n",
       " {'id': 823, 'name': 'abc', 'designations': 'admin'},\n",
       " {'id': 824, 'name': 'qrs', 'designations': 'mgr'},\n",
       " {'id': 825, 'name': 'wxy', 'designations': 'admin'},\n",
       " {'id': 826, 'name': 'wxy', 'designations': 'fin'},\n",
       " {'id': 827, 'name': 'abc', 'designations': 'se'},\n",
       " {'id': 828, 'name': 'qrs', 'designations': 'admin'},\n",
       " {'id': 829, 'name': 'mno', 'designations': 'sse'},\n",
       " {'id': 830, 'name': 'wxy', 'designations': 'fin'},\n",
       " {'id': 831, 'name': 'wxy', 'designations': 'se'},\n",
       " {'id': 832, 'name': 'wxy', 'designations': 'fin'},\n",
       " {'id': 833, 'name': 'abc', 'designations': 'sse'},\n",
       " {'id': 834, 'name': 'abc', 'designations': 'sse'},\n",
       " {'id': 835, 'name': 'qrs', 'designations': 'admin'},\n",
       " {'id': 836, 'name': 'qrs', 'designations': 'mgr'},\n",
       " {'id': 837, 'name': 'qrs', 'designations': 'se'},\n",
       " {'id': 838, 'name': 'wxy', 'designations': 'sse'},\n",
       " {'id': 839, 'name': 'mno', 'designations': 'sse'},\n",
       " {'id': 840, 'name': 'wxy', 'designations': 'fin'},\n",
       " {'id': 841, 'name': 'wxy', 'designations': 'mgr'},\n",
       " {'id': 842, 'name': 'mno', 'designations': 'hr'},\n",
       " {'id': 843, 'name': 'wxy', 'designations': 'hr'},\n",
       " {'id': 844, 'name': 'qrs', 'designations': 'mgr'},\n",
       " {'id': 845, 'name': 'qrs', 'designations': 'sse'},\n",
       " {'id': 846, 'name': 'wxy', 'designations': 'admin'},\n",
       " {'id': 847, 'name': 'wxy', 'designations': 'se'},\n",
       " {'id': 848, 'name': 'abc', 'designations': 'mgr'},\n",
       " {'id': 849, 'name': 'qrs', 'designations': 'mgr'},\n",
       " {'id': 850, 'name': 'abc', 'designations': 'se'},\n",
       " {'id': 851, 'name': 'wxy', 'designations': 'admin'},\n",
       " {'id': 852, 'name': 'wxy', 'designations': 'fin'},\n",
       " {'id': 853, 'name': 'qrs', 'designations': 'mgr'},\n",
       " {'id': 854, 'name': 'abc', 'designations': 'hr'},\n",
       " {'id': 855, 'name': 'mno', 'designations': 'admin'},\n",
       " {'id': 856, 'name': 'qrs', 'designations': 'sse'},\n",
       " {'id': 857, 'name': 'abc', 'designations': 'se'},\n",
       " {'id': 858, 'name': 'qrs', 'designations': 'sse'},\n",
       " {'id': 859, 'name': 'wxy', 'designations': 'sse'},\n",
       " {'id': 860, 'name': 'qrs', 'designations': 'fin'},\n",
       " {'id': 861, 'name': 'qrs', 'designations': 'admin'},\n",
       " {'id': 862, 'name': 'wxy', 'designations': 'admin'},\n",
       " {'id': 863, 'name': 'qrs', 'designations': 'sse'},\n",
       " {'id': 864, 'name': 'qrs', 'designations': 'admin'},\n",
       " {'id': 865, 'name': 'qrs', 'designations': 'hr'},\n",
       " {'id': 866, 'name': 'abc', 'designations': 'sse'},\n",
       " {'id': 867, 'name': 'wxy', 'designations': 'hr'},\n",
       " {'id': 868, 'name': 'abc', 'designations': 'se'},\n",
       " {'id': 869, 'name': 'mno', 'designations': 'hr'},\n",
       " {'id': 870, 'name': 'qrs', 'designations': 'admin'},\n",
       " {'id': 871, 'name': 'abc', 'designations': 'hr'},\n",
       " {'id': 872, 'name': 'qrs', 'designations': 'fin'},\n",
       " {'id': 873, 'name': 'abc', 'designations': 'admin'},\n",
       " {'id': 874, 'name': 'mno', 'designations': 'sse'},\n",
       " {'id': 875, 'name': 'wxy', 'designations': 'mgr'},\n",
       " {'id': 876, 'name': 'mno', 'designations': 'sse'},\n",
       " {'id': 877, 'name': 'abc', 'designations': 'se'},\n",
       " {'id': 878, 'name': 'abc', 'designations': 'hr'},\n",
       " {'id': 879, 'name': 'wxy', 'designations': 'sse'},\n",
       " {'id': 880, 'name': 'mno', 'designations': 'admin'},\n",
       " {'id': 881, 'name': 'wxy', 'designations': 'sse'},\n",
       " {'id': 882, 'name': 'mno', 'designations': 'admin'},\n",
       " {'id': 883, 'name': 'abc', 'designations': 'se'},\n",
       " {'id': 884, 'name': 'wxy', 'designations': 'sse'},\n",
       " {'id': 885, 'name': 'abc', 'designations': 'sse'},\n",
       " {'id': 886, 'name': 'abc', 'designations': 'mgr'},\n",
       " {'id': 887, 'name': 'abc', 'designations': 'fin'},\n",
       " {'id': 888, 'name': 'qrs', 'designations': 'sse'},\n",
       " {'id': 889, 'name': 'mno', 'designations': 'admin'},\n",
       " {'id': 890, 'name': 'qrs', 'designations': 'mgr'},\n",
       " {'id': 891, 'name': 'qrs', 'designations': 'sse'},\n",
       " {'id': 892, 'name': 'qrs', 'designations': 'se'},\n",
       " {'id': 893, 'name': 'wxy', 'designations': 'mgr'},\n",
       " {'id': 894, 'name': 'mno', 'designations': 'fin'},\n",
       " {'id': 895, 'name': 'qrs', 'designations': 'fin'},\n",
       " {'id': 896, 'name': 'qrs', 'designations': 'hr'},\n",
       " {'id': 897, 'name': 'wxy', 'designations': 'fin'},\n",
       " {'id': 898, 'name': 'mno', 'designations': 'fin'},\n",
       " {'id': 899, 'name': 'abc', 'designations': 'fin'},\n",
       " {'id': 900, 'name': 'wxy', 'designations': 'hr'},\n",
       " {'id': 901, 'name': 'wxy', 'designations': 'hr'},\n",
       " {'id': 902, 'name': 'mno', 'designations': 'hr'},\n",
       " {'id': 903, 'name': 'qrs', 'designations': 'se'},\n",
       " {'id': 904, 'name': 'wxy', 'designations': 'sse'},\n",
       " {'id': 905, 'name': 'qrs', 'designations': 'mgr'},\n",
       " {'id': 906, 'name': 'qrs', 'designations': 'sse'},\n",
       " {'id': 907, 'name': 'mno', 'designations': 'admin'},\n",
       " {'id': 908, 'name': 'abc', 'designations': 'se'},\n",
       " {'id': 909, 'name': 'mno', 'designations': 'sse'},\n",
       " {'id': 910, 'name': 'mno', 'designations': 'sse'},\n",
       " {'id': 911, 'name': 'mno', 'designations': 'mgr'},\n",
       " {'id': 912, 'name': 'mno', 'designations': 'se'},\n",
       " {'id': 913, 'name': 'qrs', 'designations': 'hr'},\n",
       " {'id': 914, 'name': 'qrs', 'designations': 'fin'},\n",
       " {'id': 915, 'name': 'qrs', 'designations': 'sse'},\n",
       " {'id': 916, 'name': 'mno', 'designations': 'hr'},\n",
       " {'id': 917, 'name': 'wxy', 'designations': 'admin'},\n",
       " {'id': 918, 'name': 'mno', 'designations': 'mgr'},\n",
       " {'id': 919, 'name': 'wxy', 'designations': 'sse'},\n",
       " {'id': 920, 'name': 'abc', 'designations': 'hr'},\n",
       " {'id': 921, 'name': 'qrs', 'designations': 'hr'},\n",
       " {'id': 922, 'name': 'wxy', 'designations': 'admin'},\n",
       " {'id': 923, 'name': 'qrs', 'designations': 'hr'},\n",
       " {'id': 924, 'name': 'qrs', 'designations': 'mgr'},\n",
       " {'id': 925, 'name': 'mno', 'designations': 'sse'},\n",
       " {'id': 926, 'name': 'abc', 'designations': 'hr'},\n",
       " {'id': 927, 'name': 'wxy', 'designations': 'se'},\n",
       " {'id': 928, 'name': 'mno', 'designations': 'hr'},\n",
       " {'id': 929, 'name': 'abc', 'designations': 'sse'},\n",
       " {'id': 930, 'name': 'abc', 'designations': 'se'},\n",
       " {'id': 931, 'name': 'qrs', 'designations': 'admin'},\n",
       " {'id': 932, 'name': 'qrs', 'designations': 'fin'},\n",
       " {'id': 933, 'name': 'wxy', 'designations': 'mgr'},\n",
       " {'id': 934, 'name': 'qrs', 'designations': 'se'},\n",
       " {'id': 935, 'name': 'mno', 'designations': 'admin'},\n",
       " {'id': 936, 'name': 'abc', 'designations': 'sse'},\n",
       " {'id': 937, 'name': 'abc', 'designations': 'se'},\n",
       " {'id': 938, 'name': 'abc', 'designations': 'sse'},\n",
       " {'id': 939, 'name': 'mno', 'designations': 'fin'},\n",
       " {'id': 940, 'name': 'abc', 'designations': 'hr'},\n",
       " {'id': 941, 'name': 'abc', 'designations': 'se'},\n",
       " {'id': 942, 'name': 'abc', 'designations': 'admin'},\n",
       " {'id': 943, 'name': 'wxy', 'designations': 'admin'},\n",
       " {'id': 944, 'name': 'mno', 'designations': 'admin'},\n",
       " {'id': 945, 'name': 'mno', 'designations': 'sse'},\n",
       " {'id': 946, 'name': 'wxy', 'designations': 'mgr'},\n",
       " {'id': 947, 'name': 'wxy', 'designations': 'fin'},\n",
       " {'id': 948, 'name': 'qrs', 'designations': 'hr'},\n",
       " {'id': 949, 'name': 'mno', 'designations': 'fin'},\n",
       " {'id': 950, 'name': 'qrs', 'designations': 'fin'},\n",
       " {'id': 951, 'name': 'abc', 'designations': 'fin'},\n",
       " {'id': 952, 'name': 'qrs', 'designations': 'se'},\n",
       " {'id': 953, 'name': 'mno', 'designations': 'sse'},\n",
       " {'id': 954, 'name': 'wxy', 'designations': 'sse'},\n",
       " {'id': 955, 'name': 'mno', 'designations': 'se'},\n",
       " {'id': 956, 'name': 'qrs', 'designations': 'sse'},\n",
       " {'id': 957, 'name': 'mno', 'designations': 'mgr'},\n",
       " {'id': 958, 'name': 'qrs', 'designations': 'sse'},\n",
       " {'id': 959, 'name': 'qrs', 'designations': 'fin'},\n",
       " {'id': 960, 'name': 'wxy', 'designations': 'mgr'},\n",
       " {'id': 961, 'name': 'abc', 'designations': 'mgr'},\n",
       " {'id': 962, 'name': 'abc', 'designations': 'se'},\n",
       " {'id': 963, 'name': 'mno', 'designations': 'mgr'},\n",
       " {'id': 964, 'name': 'mno', 'designations': 'fin'},\n",
       " {'id': 965, 'name': 'qrs', 'designations': 'hr'},\n",
       " {'id': 966, 'name': 'mno', 'designations': 'admin'},\n",
       " {'id': 967, 'name': 'qrs', 'designations': 'fin'},\n",
       " {'id': 968, 'name': 'wxy', 'designations': 'fin'},\n",
       " {'id': 969, 'name': 'mno', 'designations': 'mgr'},\n",
       " {'id': 970, 'name': 'qrs', 'designations': 'hr'},\n",
       " {'id': 971, 'name': 'qrs', 'designations': 'se'},\n",
       " {'id': 972, 'name': 'qrs', 'designations': 'admin'},\n",
       " {'id': 973, 'name': 'qrs', 'designations': 'se'},\n",
       " {'id': 974, 'name': 'mno', 'designations': 'sse'},\n",
       " {'id': 975, 'name': 'qrs', 'designations': 'mgr'},\n",
       " {'id': 976, 'name': 'abc', 'designations': 'sse'},\n",
       " {'id': 977, 'name': 'wxy', 'designations': 'se'},\n",
       " {'id': 978, 'name': 'qrs', 'designations': 'admin'},\n",
       " {'id': 979, 'name': 'abc', 'designations': 'fin'},\n",
       " {'id': 980, 'name': 'wxy', 'designations': 'sse'},\n",
       " {'id': 981, 'name': 'qrs', 'designations': 'mgr'},\n",
       " {'id': 982, 'name': 'abc', 'designations': 'admin'},\n",
       " {'id': 983, 'name': 'mno', 'designations': 'hr'},\n",
       " {'id': 984, 'name': 'abc', 'designations': 'hr'},\n",
       " {'id': 985, 'name': 'mno', 'designations': 'se'},\n",
       " {'id': 986, 'name': 'wxy', 'designations': 'fin'},\n",
       " {'id': 987, 'name': 'abc', 'designations': 'se'},\n",
       " {'id': 988, 'name': 'qrs', 'designations': 'fin'},\n",
       " {'id': 989, 'name': 'qrs', 'designations': 'fin'},\n",
       " {'id': 990, 'name': 'abc', 'designations': 'sse'},\n",
       " {'id': 991, 'name': 'qrs', 'designations': 'admin'},\n",
       " {'id': 992, 'name': 'abc', 'designations': 'hr'},\n",
       " {'id': 993, 'name': 'mno', 'designations': 'fin'},\n",
       " {'id': 994, 'name': 'qrs', 'designations': 'se'},\n",
       " {'id': 995, 'name': 'abc', 'designations': 'admin'},\n",
       " {'id': 996, 'name': 'wxy', 'designations': 'admin'},\n",
       " {'id': 997, 'name': 'wxy', 'designations': 'fin'},\n",
       " {'id': 998, 'name': 'mno', 'designations': 'mgr'},\n",
       " {'id': 999, 'name': 'qrs', 'designations': 'se'},\n",
       " ...]"
      ]
     },
     "execution_count": 135,
     "metadata": {},
     "output_type": "execute_result"
    }
   ],
   "source": [
    "next(ret)"
   ]
  },
  {
   "cell_type": "code",
   "execution_count": 136,
   "id": "cc8475e3",
   "metadata": {},
   "outputs": [],
   "source": [
    "def frange(start, stop, increment):\n",
    "    x = start\n",
    "    while x < stop:\n",
    "        yield x\n",
    "        x += increment"
   ]
  },
  {
   "cell_type": "code",
   "execution_count": 137,
   "id": "a078211a",
   "metadata": {},
   "outputs": [
    {
     "name": "stdout",
     "output_type": "stream",
     "text": [
      "<class 'generator'>\n",
      "0\n",
      "0.5\n",
      "1.0\n",
      "1.5\n",
      "2.0\n",
      "2.5\n",
      "3.0\n",
      "3.5\n"
     ]
    }
   ],
   "source": [
    "c = frange(0, 4, 0.5)\n",
    "print(type(c))\n",
    "\n",
    "for n in frange(0, 4, 0.5):\n",
    "    print(n)"
   ]
  },
  {
   "cell_type": "code",
   "execution_count": 140,
   "id": "72ac9a20",
   "metadata": {},
   "outputs": [],
   "source": [
    "def countdown(n):\n",
    "    print(\"starting to count from\", n)\n",
    "    while n > 0:\n",
    "        yield n\n",
    "        n -= 1\n",
    "    print(\"Done\")"
   ]
  },
  {
   "cell_type": "code",
   "execution_count": 139,
   "id": "27896ef7",
   "metadata": {},
   "outputs": [],
   "source": [
    "c = countdown(3)"
   ]
  },
  {
   "cell_type": "code",
   "execution_count": 143,
   "id": "dd577006",
   "metadata": {},
   "outputs": [
    {
     "data": {
      "text/plain": [
       "1"
      ]
     },
     "execution_count": 143,
     "metadata": {},
     "output_type": "execute_result"
    }
   ],
   "source": [
    "next(c)"
   ]
  },
  {
   "cell_type": "code",
   "execution_count": 142,
   "id": "66296ae5",
   "metadata": {},
   "outputs": [
    {
     "data": {
      "text/plain": [
       "2"
      ]
     },
     "execution_count": 142,
     "metadata": {},
     "output_type": "execute_result"
    }
   ],
   "source": [
    "next(c)"
   ]
  },
  {
   "cell_type": "code",
   "execution_count": 144,
   "id": "7f038056",
   "metadata": {},
   "outputs": [
    {
     "name": "stdout",
     "output_type": "stream",
     "text": [
      "Done\n"
     ]
    },
    {
     "ename": "StopIteration",
     "evalue": "",
     "output_type": "error",
     "traceback": [
      "\u001b[1;31m---------------------------------------------------------------------------\u001b[0m",
      "\u001b[1;31mStopIteration\u001b[0m                             Traceback (most recent call last)",
      "\u001b[1;32mC:\\Users\\BHAGYA~1\\AppData\\Local\\Temp/ipykernel_11632/1173204873.py\u001b[0m in \u001b[0;36m<module>\u001b[1;34m\u001b[0m\n\u001b[1;32m----> 1\u001b[1;33m \u001b[0mnext\u001b[0m\u001b[1;33m(\u001b[0m\u001b[0mc\u001b[0m\u001b[1;33m)\u001b[0m\u001b[1;33m\u001b[0m\u001b[1;33m\u001b[0m\u001b[0m\n\u001b[0m",
      "\u001b[1;31mStopIteration\u001b[0m: "
     ]
    }
   ],
   "source": [
    "next(c)"
   ]
  },
  {
   "cell_type": "code",
   "execution_count": 145,
   "id": "40807766",
   "metadata": {},
   "outputs": [
    {
     "data": {
      "text/plain": [
       "[]"
      ]
     },
     "execution_count": 145,
     "metadata": {},
     "output_type": "execute_result"
    }
   ],
   "source": [
    "list(c)"
   ]
  },
  {
   "cell_type": "code",
   "execution_count": 146,
   "id": "6cf15899",
   "metadata": {},
   "outputs": [
    {
     "name": "stdout",
     "output_type": "stream",
     "text": [
      "5\n",
      "4\n",
      "3\n",
      "2\n",
      "1\n"
     ]
    }
   ],
   "source": [
    "a = [1,2,3,4,5]\n",
    "for x in reversed(a):\n",
    "    print(x)\n"
   ]
  },
  {
   "cell_type": "code",
   "execution_count": 147,
   "id": "72755a24",
   "metadata": {},
   "outputs": [
    {
     "name": "stdout",
     "output_type": "stream",
     "text": [
      "('a', 'b', 'c')\n",
      "('a', 'c', 'b')\n",
      "('b', 'a', 'c')\n",
      "('b', 'c', 'a')\n",
      "('c', 'a', 'b')\n",
      "('c', 'b', 'a')\n"
     ]
    }
   ],
   "source": [
    "items = ['a','b','c']\n",
    "from itertools import permutations\n",
    "for p in permutations(items):\n",
    "    print(p)"
   ]
  },
  {
   "cell_type": "code",
   "execution_count": 148,
   "id": "93f04c56",
   "metadata": {},
   "outputs": [
    {
     "name": "stdout",
     "output_type": "stream",
     "text": [
      "('a', 'b', 'c')\n"
     ]
    }
   ],
   "source": [
    "from itertools import combinations\n",
    "for c in combinations(items, 3):\n",
    "    print(c)"
   ]
  },
  {
   "cell_type": "code",
   "execution_count": 149,
   "id": "c0dac074",
   "metadata": {},
   "outputs": [
    {
     "name": "stdout",
     "output_type": "stream",
     "text": [
      "('a', 'b')\n",
      "('a', 'c')\n",
      "('b', 'c')\n"
     ]
    }
   ],
   "source": [
    "from itertools import combinations\n",
    "for c in combinations(items, 2):\n",
    "    print(c)\n"
   ]
  },
  {
   "cell_type": "code",
   "execution_count": 150,
   "id": "c4a355f9",
   "metadata": {},
   "outputs": [
    {
     "name": "stdout",
     "output_type": "stream",
     "text": [
      "('a',)\n",
      "('b',)\n",
      "('c',)\n"
     ]
    }
   ],
   "source": [
    "from itertools import combinations\n",
    "for c in combinations(items, 1):\n",
    "    print(c)"
   ]
  },
  {
   "cell_type": "code",
   "execution_count": 151,
   "id": "52653305",
   "metadata": {},
   "outputs": [
    {
     "name": "stdout",
     "output_type": "stream",
     "text": [
      "0 a\n",
      "1 b\n",
      "2 c\n"
     ]
    }
   ],
   "source": [
    "# enumerate to the track of sequence and element in terms of index and value\n",
    "\n",
    "mylist = ['a','b','c']\n",
    "for idx, val in enumerate(mylist):\n",
    "    print(idx, val)"
   ]
  },
  {
   "cell_type": "code",
   "execution_count": 152,
   "id": "9c405fce",
   "metadata": {},
   "outputs": [
    {
     "name": "stdout",
     "output_type": "stream",
     "text": [
      "1 a\n",
      "2 b\n",
      "3 c\n"
     ]
    }
   ],
   "source": [
    "for idx, val in enumerate(mylist, 1):\n",
    "    print(idx, val)"
   ]
  },
  {
   "cell_type": "code",
   "execution_count": 153,
   "id": "aace13b2",
   "metadata": {},
   "outputs": [
    {
     "name": "stdout",
     "output_type": "stream",
     "text": [
      "1 101\n",
      "2 102\n",
      "3 103\n",
      "4 104\n",
      "5 105\n"
     ]
    }
   ],
   "source": [
    "# zip iterator\n",
    "x = [1,2,3,4,5]\n",
    "y = [101,102,103,104,105]\n",
    "\n",
    "for i, j in zip(x, y):\n",
    "    print(i, j)"
   ]
  },
  {
   "cell_type": "code",
   "execution_count": 155,
   "id": "0223fb9f",
   "metadata": {},
   "outputs": [
    {
     "name": "stdout",
     "output_type": "stream",
     "text": [
      "{1: 101, 2: 102, 3: 103, 4: 104, 5: 105}\n"
     ]
    }
   ],
   "source": [
    "# zip iterator\n",
    "x = [1,2,3,4,5]\n",
    "y = [101,102,103,104,105]\n",
    "d = {}\n",
    "for i, j in zip(x, y):\n",
    "    d[i] = j\n",
    "print(d)\n"
   ]
  },
  {
   "cell_type": "code",
   "execution_count": 156,
   "id": "c8cbffff",
   "metadata": {},
   "outputs": [
    {
     "name": "stdout",
     "output_type": "stream",
     "text": [
      "(1, 'w')\n",
      "(2, 'x')\n",
      "(3, 'y')\n"
     ]
    }
   ],
   "source": [
    "a = [1,2,3]\n",
    "b = ['w', 'x', 'y', 'z']\n",
    "for i in zip(a,b):\n",
    "    print(i)"
   ]
  },
  {
   "cell_type": "code",
   "execution_count": 157,
   "id": "e96696bc",
   "metadata": {},
   "outputs": [
    {
     "name": "stdout",
     "output_type": "stream",
     "text": [
      "(1, 'w')\n",
      "(2, 'x')\n",
      "(3, 'y')\n",
      "(None, 'z')\n"
     ]
    }
   ],
   "source": [
    "from itertools import zip_longest\n",
    "for i in zip_longest(a,b):\n",
    "    print(i)"
   ]
  },
  {
   "cell_type": "code",
   "execution_count": 158,
   "id": "6328789f",
   "metadata": {},
   "outputs": [
    {
     "name": "stdout",
     "output_type": "stream",
     "text": [
      "(1, 'w', 10)\n",
      "(2, 'x', 11)\n",
      "(3, 'y', 12)\n"
     ]
    }
   ],
   "source": [
    "a = [1,2,3]\n",
    "b = ['w', 'x', 'y']\n",
    "c = [10,11,12]\n",
    "for i in zip(a,b,c):\n",
    "    print(i)"
   ]
  },
  {
   "cell_type": "code",
   "execution_count": 159,
   "id": "45a8390b",
   "metadata": {},
   "outputs": [
    {
     "name": "stdout",
     "output_type": "stream",
     "text": [
      "1\n",
      "2\n",
      "3\n",
      "w\n",
      "x\n",
      "y\n",
      "10\n",
      "11\n",
      "12\n"
     ]
    }
   ],
   "source": [
    "from itertools import chain\n",
    "for x in chain(a,b,c):\n",
    "    print(x)"
   ]
  },
  {
   "cell_type": "code",
   "execution_count": 160,
   "id": "841c7992",
   "metadata": {},
   "outputs": [
    {
     "name": "stderr",
     "output_type": "stream",
     "text": [
      "C:\\Users\\BHAGYA~1\\AppData\\Local\\Temp/ipykernel_11632/2924976903.py:2: DeprecationWarning: Using or importing the ABCs from 'collections' instead of from 'collections.abc' is deprecated since Python 3.3, and in 3.10 it will stop working\n",
      "  from collections import Iterable\n"
     ]
    }
   ],
   "source": [
    "# flattening the nested sequence\n",
    "from collections import Iterable\n",
    "\n",
    "def flatten(items, ignore_type=(str, bytes)):\n",
    "    for x in items:\n",
    "        if isinstance(x, Iterable) and not isinstance(x, ignore_type):\n",
    "            yield from flatten(x)\n",
    "        else:\n",
    "            yield x"
   ]
  },
  {
   "cell_type": "code",
   "execution_count": 161,
   "id": "91a1985f",
   "metadata": {},
   "outputs": [
    {
     "name": "stdout",
     "output_type": "stream",
     "text": [
      "1\n",
      "2\n",
      "3\n",
      "4\n",
      "5\n",
      "6\n",
      "7\n",
      "8\n"
     ]
    }
   ],
   "source": [
    "items = [1, 2, [3,4, [5,6],7], 8]\n",
    "\n",
    "for x in flatten(items):\n",
    "    print(x)\n"
   ]
  },
  {
   "cell_type": "code",
   "execution_count": 162,
   "id": "2fc4f99b",
   "metadata": {},
   "outputs": [
    {
     "name": "stdout",
     "output_type": "stream",
     "text": [
      "john\n",
      "ate\n",
      "fred\n",
      "tom\n"
     ]
    }
   ],
   "source": [
    "items = ['john', ['ate','fred'],'tom']\n",
    "\n",
    "for x in flatten(items):\n",
    "    print(x)\n"
   ]
  },
  {
   "cell_type": "code",
   "execution_count": 165,
   "id": "3cf12ed4",
   "metadata": {},
   "outputs": [
    {
     "ename": "FileNotFoundError",
     "evalue": "[Errno 2] No such file or directory: 'Sample.txt'",
     "output_type": "error",
     "traceback": [
      "\u001b[1;31m---------------------------------------------------------------------------\u001b[0m",
      "\u001b[1;31mFileNotFoundError\u001b[0m                         Traceback (most recent call last)",
      "\u001b[1;32mC:\\Users\\BHAGYA~1\\AppData\\Local\\Temp/ipykernel_11632/3848460863.py\u001b[0m in \u001b[0;36m<module>\u001b[1;34m\u001b[0m\n\u001b[0;32m      1\u001b[0m \u001b[1;31m# files\u001b[0m\u001b[1;33m\u001b[0m\u001b[1;33m\u001b[0m\u001b[1;33m\u001b[0m\u001b[0m\n\u001b[0;32m      2\u001b[0m \u001b[1;33m\u001b[0m\u001b[0m\n\u001b[1;32m----> 3\u001b[1;33m \u001b[1;32mwith\u001b[0m \u001b[0mopen\u001b[0m\u001b[1;33m(\u001b[0m\u001b[1;34m'Sample.txt'\u001b[0m\u001b[1;33m,\u001b[0m \u001b[1;34m'rt'\u001b[0m\u001b[1;33m)\u001b[0m \u001b[1;32mas\u001b[0m \u001b[0mf\u001b[0m\u001b[1;33m:\u001b[0m\u001b[1;33m\u001b[0m\u001b[1;33m\u001b[0m\u001b[0m\n\u001b[0m\u001b[0;32m      4\u001b[0m     \u001b[0mdata\u001b[0m \u001b[1;33m=\u001b[0m \u001b[0mf\u001b[0m\u001b[1;33m.\u001b[0m\u001b[0mread\u001b[0m\u001b[1;33m(\u001b[0m\u001b[1;33m)\u001b[0m\u001b[1;33m\u001b[0m\u001b[1;33m\u001b[0m\u001b[0m\n\u001b[0;32m      5\u001b[0m \u001b[0mprint\u001b[0m\u001b[1;33m(\u001b[0m\u001b[0mdata\u001b[0m\u001b[1;33m)\u001b[0m\u001b[1;33m\u001b[0m\u001b[1;33m\u001b[0m\u001b[0m\n",
      "\u001b[1;31mFileNotFoundError\u001b[0m: [Errno 2] No such file or directory: 'Sample.txt'"
     ]
    }
   ],
   "source": [
    "# files\n",
    "\n",
    "with open('Sample.txt', 'rt') as f:\n",
    "    data = f.read()\n",
    "print(data)"
   ]
  },
  {
   "cell_type": "code",
   "execution_count": 171,
   "id": "c71f68c7",
   "metadata": {},
   "outputs": [
    {
     "ename": "FileNotFoundError",
     "evalue": "[Errno 2] No such file or directory: 'Sample.txt'",
     "output_type": "error",
     "traceback": [
      "\u001b[1;31m---------------------------------------------------------------------------\u001b[0m",
      "\u001b[1;31mFileNotFoundError\u001b[0m                         Traceback (most recent call last)",
      "\u001b[1;32mC:\\Users\\BHAGYA~1\\AppData\\Local\\Temp/ipykernel_11632/3861177677.py\u001b[0m in \u001b[0;36m<module>\u001b[1;34m\u001b[0m\n\u001b[0;32m      1\u001b[0m \u001b[1;31m# files\u001b[0m\u001b[1;33m\u001b[0m\u001b[1;33m\u001b[0m\u001b[1;33m\u001b[0m\u001b[0m\n\u001b[0;32m      2\u001b[0m \u001b[1;33m\u001b[0m\u001b[0m\n\u001b[1;32m----> 3\u001b[1;33m \u001b[1;32mwith\u001b[0m \u001b[0mopen\u001b[0m\u001b[1;33m(\u001b[0m\u001b[1;34m\"Sample.txt\"\u001b[0m\u001b[1;33m,\u001b[0m \u001b[1;34m'rt'\u001b[0m\u001b[1;33m)\u001b[0m \u001b[1;32mas\u001b[0m \u001b[0mf\u001b[0m\u001b[1;33m:\u001b[0m\u001b[1;33m\u001b[0m\u001b[1;33m\u001b[0m\u001b[0m\n\u001b[0m\u001b[0;32m      4\u001b[0m     \u001b[0mdata\u001b[0m \u001b[1;33m=\u001b[0m \u001b[0mf\u001b[0m\u001b[1;33m.\u001b[0m\u001b[0mread\u001b[0m\u001b[1;33m(\u001b[0m\u001b[1;33m)\u001b[0m\u001b[1;33m\u001b[0m\u001b[1;33m\u001b[0m\u001b[0m\n\u001b[0;32m      5\u001b[0m \u001b[0mprint\u001b[0m\u001b[1;33m(\u001b[0m\u001b[0mdata\u001b[0m\u001b[1;33m)\u001b[0m\u001b[1;33m\u001b[0m\u001b[1;33m\u001b[0m\u001b[0m\n",
      "\u001b[1;31mFileNotFoundError\u001b[0m: [Errno 2] No such file or directory: 'Sample.txt'"
     ]
    }
   ],
   "source": [
    "# files\n",
    "\n",
    "with open(\"Sample.txt\", 'rt') as f:\n",
    "    data = f.read()\n",
    "print(data)"
   ]
  },
  {
   "cell_type": "code",
   "execution_count": 172,
   "id": "9171250f",
   "metadata": {},
   "outputs": [
    {
     "name": "stdout",
     "output_type": "stream",
     "text": [
      "Help on built-in function print in module builtins:\n",
      "\n",
      "print(...)\n",
      "    print(value, ..., sep=' ', end='\\n', file=sys.stdout, flush=False)\n",
      "    \n",
      "    Prints the values to a stream, or to sys.stdout by default.\n",
      "    Optional keyword arguments:\n",
      "    file:  a file-like object (stream); defaults to the current sys.stdout.\n",
      "    sep:   string inserted between values, default a space.\n",
      "    end:   string appended after the last value, default a newline.\n",
      "    flush: whether to forcibly flush the stream.\n",
      "\n"
     ]
    }
   ],
   "source": [
    "# redirected output\n",
    "help(print)"
   ]
  },
  {
   "cell_type": "code",
   "execution_count": 173,
   "id": "fa7222e3",
   "metadata": {},
   "outputs": [],
   "source": [
    "with open('abc.txt', 'wt') as f:\n",
    "    print('hi', file=f)\n",
    "    print(\"hello\", file=f)"
   ]
  },
  {
   "cell_type": "code",
   "execution_count": 174,
   "id": "20388b2e",
   "metadata": {},
   "outputs": [
    {
     "name": "stdout",
     "output_type": "stream",
     "text": [
      "hi\n",
      "hello\n",
      "\n"
     ]
    }
   ],
   "source": [
    "with open('abc.txt', 'rt') as f:\n",
    "    print(f.read())"
   ]
  },
  {
   "cell_type": "code",
   "execution_count": 177,
   "id": "e925d00e",
   "metadata": {},
   "outputs": [
    {
     "ename": "SyntaxError",
     "evalue": "invalid syntax (Temp/ipykernel_11632/2493789349.py, line 2)",
     "output_type": "error",
     "traceback": [
      "\u001b[1;36m  File \u001b[1;32m\"C:\\Users\\BHAGYA~1\\AppData\\Local\\Temp/ipykernel_11632/2493789349.py\"\u001b[1;36m, line \u001b[1;32m2\u001b[0m\n\u001b[1;33m    write.open(\"somefile.txt\",\"wt\") as f:\u001b[0m\n\u001b[1;37m                                    ^\u001b[0m\n\u001b[1;31mSyntaxError\u001b[0m\u001b[1;31m:\u001b[0m invalid syntax\n"
     ]
    }
   ],
   "source": [
    "# Write chunk of text data\n",
    "write.open(\"somefile.txt\",\"wt\") as f:\n",
    "    f.write(\"hiiii\")\n",
    "    f.write(\"hello\")"
   ]
  },
  {
   "cell_type": "code",
   "execution_count": 180,
   "id": "49ff922b",
   "metadata": {},
   "outputs": [
    {
     "ename": "AttributeError",
     "evalue": "'_io.TextIOWrapper' object has no attribute 'open'",
     "output_type": "error",
     "traceback": [
      "\u001b[1;31m---------------------------------------------------------------------------\u001b[0m",
      "\u001b[1;31mAttributeError\u001b[0m                            Traceback (most recent call last)",
      "\u001b[1;32mC:\\Users\\BHAGYA~1\\AppData\\Local\\Temp/ipykernel_11632/643725812.py\u001b[0m in \u001b[0;36m<module>\u001b[1;34m\u001b[0m\n\u001b[1;32m----> 1\u001b[1;33m \u001b[0mf\u001b[0m\u001b[1;33m.\u001b[0m\u001b[0mopen\u001b[0m\u001b[1;33m(\u001b[0m\u001b[1;34m\"filename\"\u001b[0m\u001b[1;33m,\u001b[0m\u001b[1;34m\"w\"\u001b[0m\u001b[1;33m)\u001b[0m\u001b[1;33m\u001b[0m\u001b[1;33m\u001b[0m\u001b[0m\n\u001b[0m\u001b[0;32m      2\u001b[0m \u001b[0mf\u001b[0m\u001b[1;33m.\u001b[0m\u001b[0mread\u001b[0m\u001b[1;33m(\u001b[0m\u001b[1;33m)\u001b[0m\u001b[1;33m\u001b[0m\u001b[1;33m\u001b[0m\u001b[0m\n\u001b[0;32m      3\u001b[0m \u001b[0mf\u001b[0m\u001b[1;33m.\u001b[0m\u001b[0mwrite\u001b[0m\u001b[1;33m(\u001b[0m\u001b[1;33m)\u001b[0m\u001b[1;33m\u001b[0m\u001b[1;33m\u001b[0m\u001b[0m\n\u001b[0;32m      4\u001b[0m \u001b[0mf\u001b[0m\u001b[1;33m.\u001b[0m\u001b[0mclose\u001b[0m\u001b[1;33m(\u001b[0m\u001b[1;33m)\u001b[0m\u001b[1;33m\u001b[0m\u001b[1;33m\u001b[0m\u001b[0m\n",
      "\u001b[1;31mAttributeError\u001b[0m: '_io.TextIOWrapper' object has no attribute 'open'"
     ]
    }
   ],
   "source": [
    "f.open(\"filename\",\"w\")\n",
    "f.read()\n",
    "f.write()\n",
    "f.close()"
   ]
  },
  {
   "cell_type": "code",
   "execution_count": 181,
   "id": "61ed3e41",
   "metadata": {},
   "outputs": [],
   "source": [
    "# redirect out file\n",
    "\n",
    "with open(\"somefile.txt\",\"wt\") as f:\n",
    "    print(\"Hii Python\", file = f)\n",
    "    print(\"line3\", file = f)"
   ]
  },
  {
   "cell_type": "code",
   "execution_count": 182,
   "id": "34d9d72c",
   "metadata": {},
   "outputs": [],
   "source": [
    "f = open(\"somefile.txt\",\"rt\")\n",
    "data = f.read()\n",
    "f.close()"
   ]
  },
  {
   "cell_type": "code",
   "execution_count": 183,
   "id": "e6ac9690",
   "metadata": {},
   "outputs": [
    {
     "data": {
      "text/plain": [
       "'Hii Python\\nline3\\n'"
      ]
     },
     "execution_count": 183,
     "metadata": {},
     "output_type": "execute_result"
    }
   ],
   "source": [
    "data"
   ]
  },
  {
   "cell_type": "code",
   "execution_count": 184,
   "id": "1e680ada",
   "metadata": {},
   "outputs": [
    {
     "ename": "FileNotFoundError",
     "evalue": "[Errno 2] No such file or directory: '/Users/Bhagya/Documents/Basic_Python/material/sample.txt'",
     "output_type": "error",
     "traceback": [
      "\u001b[1;31m---------------------------------------------------------------------------\u001b[0m",
      "\u001b[1;31mFileNotFoundError\u001b[0m                         Traceback (most recent call last)",
      "\u001b[1;32mC:\\Users\\BHAGYA~1\\AppData\\Local\\Temp/ipykernel_11632/2541249447.py\u001b[0m in \u001b[0;36m<module>\u001b[1;34m\u001b[0m\n\u001b[0;32m      1\u001b[0m \u001b[1;31m# Replace bad chars with unicode U + fffd replace\u001b[0m\u001b[1;33m\u001b[0m\u001b[1;33m\u001b[0m\u001b[1;33m\u001b[0m\u001b[0m\n\u001b[1;32m----> 2\u001b[1;33m \u001b[0mf\u001b[0m \u001b[1;33m=\u001b[0m \u001b[0mopen\u001b[0m\u001b[1;33m(\u001b[0m\u001b[1;34m\"/Users/Bhagya/Documents/Basic_Python/material/sample.txt\"\u001b[0m\u001b[1;33m,\u001b[0m\u001b[1;34m\"rt\"\u001b[0m\u001b[1;33m,\u001b[0m\u001b[0mencoding\u001b[0m \u001b[1;33m=\u001b[0m \u001b[1;34m\"ascii\"\u001b[0m\u001b[1;33m,\u001b[0m \u001b[0merrors\u001b[0m \u001b[1;33m=\u001b[0m \u001b[1;34m\"replace\"\u001b[0m\u001b[1;33m)\u001b[0m\u001b[1;33m\u001b[0m\u001b[1;33m\u001b[0m\u001b[0m\n\u001b[0m\u001b[0;32m      3\u001b[0m \u001b[0mf\u001b[0m\u001b[1;33m.\u001b[0m\u001b[0mread\u001b[0m\u001b[1;33m(\u001b[0m\u001b[1;33m)\u001b[0m\u001b[1;33m\u001b[0m\u001b[1;33m\u001b[0m\u001b[0m\n",
      "\u001b[1;31mFileNotFoundError\u001b[0m: [Errno 2] No such file or directory: '/Users/Bhagya/Documents/Basic_Python/material/sample.txt'"
     ]
    }
   ],
   "source": [
    "# Replace bad chars with unicode U + fffd replace\n",
    "f = open(\"/Users/Bhagya/Documents/Basic_Python/material/sample.txt\",\"rt\",encoding = \"ascii\", errors = \"replace\")\n",
    "f.read()"
   ]
  },
  {
   "cell_type": "code",
   "execution_count": null,
   "id": "0bc7fdf4",
   "metadata": {},
   "outputs": [],
   "source": []
  }
 ],
 "metadata": {
  "kernelspec": {
   "display_name": "Python 3 (ipykernel)",
   "language": "python",
   "name": "python3"
  },
  "language_info": {
   "codemirror_mode": {
    "name": "ipython",
    "version": 3
   },
   "file_extension": ".py",
   "mimetype": "text/x-python",
   "name": "python",
   "nbconvert_exporter": "python",
   "pygments_lexer": "ipython3",
   "version": "3.9.5"
  }
 },
 "nbformat": 4,
 "nbformat_minor": 5
}
